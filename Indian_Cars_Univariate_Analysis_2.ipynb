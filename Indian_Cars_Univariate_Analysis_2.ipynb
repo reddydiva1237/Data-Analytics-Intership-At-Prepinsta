{
  "nbformat": 4,
  "nbformat_minor": 0,
  "metadata": {
    "colab": {
      "provenance": [],
      "authorship_tag": "ABX9TyPHLiud8gsHr2Zol/5EiP/P",
      "include_colab_link": true
    },
    "kernelspec": {
      "name": "python3",
      "display_name": "Python 3"
    },
    "language_info": {
      "name": "python"
    }
  },
  "cells": [
    {
      "cell_type": "markdown",
      "metadata": {
        "id": "view-in-github",
        "colab_type": "text"
      },
      "source": [
        "<a href=\"https://colab.research.google.com/github/reddydiva1237/prepinsta/blob/main/Indian_Cars_Univariate_Analysis_2.ipynb\" target=\"_parent\"><img src=\"https://colab.research.google.com/assets/colab-badge.svg\" alt=\"Open In Colab\"/></a>"
      ]
    },
    {
      "cell_type": "markdown",
      "source": [
        "Indian Cars Univariate Analysis"
      ],
      "metadata": {
        "id": "7DMw4C2RYxJX"
      }
    },
    {
      "cell_type": "markdown",
      "source": [
        "Importing All Libraries"
      ],
      "metadata": {
        "id": "W6gtXPtHYyib"
      }
    },
    {
      "cell_type": "code",
      "source": [
        "import numpy as np\n",
        "import pandas as pd\n",
        "import scipy.stats as stats\n",
        "import seaborn as sns\n",
        "import matplotlib.pyplot as plt\n",
        "import plotly\n",
        "import plotly.express as px\n",
        "from matplotlib.pyplot import figure"
      ],
      "metadata": {
        "id": "IVR_ur8lYy9e"
      },
      "execution_count": null,
      "outputs": []
    },
    {
      "cell_type": "code",
      "source": [
        "df = pd.read_csv(\"/content/cars_ds_final.csv\")"
      ],
      "metadata": {
        "id": "-Pm4xQeIYzDE"
      },
      "execution_count": null,
      "outputs": []
    },
    {
      "cell_type": "code",
      "source": [
        "df.dtypes"
      ],
      "metadata": {
        "colab": {
          "base_uri": "https://localhost:8080/"
        },
        "id": "ZgkByRSQYzGe",
        "outputId": "7e9bdc6f-37f0-4559-e17f-2a158de278c9"
      },
      "execution_count": null,
      "outputs": [
        {
          "output_type": "execute_result",
          "data": {
            "text/plain": [
              "Unnamed: 0             int64\n",
              "Make                  object\n",
              "Model                 object\n",
              "Variant               object\n",
              "Ex-Showroom_Price     object\n",
              "                      ...   \n",
              "USB_Ports            float64\n",
              "Heads-Up_Display      object\n",
              "Welcome_Lights        object\n",
              "Battery               object\n",
              "Electric_Range        object\n",
              "Length: 141, dtype: object"
            ]
          },
          "metadata": {},
          "execution_count": 10
        }
      ]
    },
    {
      "cell_type": "code",
      "source": [
        "df.describe()"
      ],
      "metadata": {
        "colab": {
          "base_uri": "https://localhost:8080/",
          "height": 297
        },
        "id": "oRzO4MPqhHZN",
        "outputId": "36a5d260-45d7-4c56-89cb-cddd7373b1d5"
      },
      "execution_count": null,
      "outputs": [
        {
          "output_type": "execute_result",
          "data": {
            "text/plain": [
              "        Unnamed: 0    Cylinders  Valves_Per_Cylinder        Doors  \\\n",
              "count  1276.000000  1210.000000          1174.000000  1272.000000   \n",
              "mean    637.500000     4.380992             3.977853     4.550314   \n",
              "std     368.493781     1.660957             0.833763     0.747816   \n",
              "min       0.000000     2.000000             1.000000     2.000000   \n",
              "25%     318.750000     4.000000             4.000000     4.000000   \n",
              "50%     637.500000     4.000000             4.000000     5.000000   \n",
              "75%     956.250000     4.000000             4.000000     5.000000   \n",
              "max    1275.000000    16.000000            16.000000     5.000000   \n",
              "\n",
              "       Seating_Capacity  Number_of_Airbags  USB_Ports  \n",
              "count       1270.000000        1141.000000  29.000000  \n",
              "mean           5.270079           3.787029   1.793103  \n",
              "std            1.145231           2.522399   0.773642  \n",
              "min            2.000000           1.000000   1.000000  \n",
              "25%            5.000000           2.000000   1.000000  \n",
              "50%            5.000000           2.000000   2.000000  \n",
              "75%            5.000000           6.000000   2.000000  \n",
              "max           16.000000          14.000000   3.000000  "
            ],
            "text/html": [
              "\n",
              "  <div id=\"df-d29c983f-8064-467e-8ca3-9ece426f43c2\" class=\"colab-df-container\">\n",
              "    <div>\n",
              "<style scoped>\n",
              "    .dataframe tbody tr th:only-of-type {\n",
              "        vertical-align: middle;\n",
              "    }\n",
              "\n",
              "    .dataframe tbody tr th {\n",
              "        vertical-align: top;\n",
              "    }\n",
              "\n",
              "    .dataframe thead th {\n",
              "        text-align: right;\n",
              "    }\n",
              "</style>\n",
              "<table border=\"1\" class=\"dataframe\">\n",
              "  <thead>\n",
              "    <tr style=\"text-align: right;\">\n",
              "      <th></th>\n",
              "      <th>Unnamed: 0</th>\n",
              "      <th>Cylinders</th>\n",
              "      <th>Valves_Per_Cylinder</th>\n",
              "      <th>Doors</th>\n",
              "      <th>Seating_Capacity</th>\n",
              "      <th>Number_of_Airbags</th>\n",
              "      <th>USB_Ports</th>\n",
              "    </tr>\n",
              "  </thead>\n",
              "  <tbody>\n",
              "    <tr>\n",
              "      <th>count</th>\n",
              "      <td>1276.000000</td>\n",
              "      <td>1210.000000</td>\n",
              "      <td>1174.000000</td>\n",
              "      <td>1272.000000</td>\n",
              "      <td>1270.000000</td>\n",
              "      <td>1141.000000</td>\n",
              "      <td>29.000000</td>\n",
              "    </tr>\n",
              "    <tr>\n",
              "      <th>mean</th>\n",
              "      <td>637.500000</td>\n",
              "      <td>4.380992</td>\n",
              "      <td>3.977853</td>\n",
              "      <td>4.550314</td>\n",
              "      <td>5.270079</td>\n",
              "      <td>3.787029</td>\n",
              "      <td>1.793103</td>\n",
              "    </tr>\n",
              "    <tr>\n",
              "      <th>std</th>\n",
              "      <td>368.493781</td>\n",
              "      <td>1.660957</td>\n",
              "      <td>0.833763</td>\n",
              "      <td>0.747816</td>\n",
              "      <td>1.145231</td>\n",
              "      <td>2.522399</td>\n",
              "      <td>0.773642</td>\n",
              "    </tr>\n",
              "    <tr>\n",
              "      <th>min</th>\n",
              "      <td>0.000000</td>\n",
              "      <td>2.000000</td>\n",
              "      <td>1.000000</td>\n",
              "      <td>2.000000</td>\n",
              "      <td>2.000000</td>\n",
              "      <td>1.000000</td>\n",
              "      <td>1.000000</td>\n",
              "    </tr>\n",
              "    <tr>\n",
              "      <th>25%</th>\n",
              "      <td>318.750000</td>\n",
              "      <td>4.000000</td>\n",
              "      <td>4.000000</td>\n",
              "      <td>4.000000</td>\n",
              "      <td>5.000000</td>\n",
              "      <td>2.000000</td>\n",
              "      <td>1.000000</td>\n",
              "    </tr>\n",
              "    <tr>\n",
              "      <th>50%</th>\n",
              "      <td>637.500000</td>\n",
              "      <td>4.000000</td>\n",
              "      <td>4.000000</td>\n",
              "      <td>5.000000</td>\n",
              "      <td>5.000000</td>\n",
              "      <td>2.000000</td>\n",
              "      <td>2.000000</td>\n",
              "    </tr>\n",
              "    <tr>\n",
              "      <th>75%</th>\n",
              "      <td>956.250000</td>\n",
              "      <td>4.000000</td>\n",
              "      <td>4.000000</td>\n",
              "      <td>5.000000</td>\n",
              "      <td>5.000000</td>\n",
              "      <td>6.000000</td>\n",
              "      <td>2.000000</td>\n",
              "    </tr>\n",
              "    <tr>\n",
              "      <th>max</th>\n",
              "      <td>1275.000000</td>\n",
              "      <td>16.000000</td>\n",
              "      <td>16.000000</td>\n",
              "      <td>5.000000</td>\n",
              "      <td>16.000000</td>\n",
              "      <td>14.000000</td>\n",
              "      <td>3.000000</td>\n",
              "    </tr>\n",
              "  </tbody>\n",
              "</table>\n",
              "</div>\n",
              "    <div class=\"colab-df-buttons\">\n",
              "\n",
              "  <div class=\"colab-df-container\">\n",
              "    <button class=\"colab-df-convert\" onclick=\"convertToInteractive('df-d29c983f-8064-467e-8ca3-9ece426f43c2')\"\n",
              "            title=\"Convert this dataframe to an interactive table.\"\n",
              "            style=\"display:none;\">\n",
              "\n",
              "  <svg xmlns=\"http://www.w3.org/2000/svg\" height=\"24px\" viewBox=\"0 -960 960 960\">\n",
              "    <path d=\"M120-120v-720h720v720H120Zm60-500h600v-160H180v160Zm220 220h160v-160H400v160Zm0 220h160v-160H400v160ZM180-400h160v-160H180v160Zm440 0h160v-160H620v160ZM180-180h160v-160H180v160Zm440 0h160v-160H620v160Z\"/>\n",
              "  </svg>\n",
              "    </button>\n",
              "\n",
              "  <style>\n",
              "    .colab-df-container {\n",
              "      display:flex;\n",
              "      gap: 12px;\n",
              "    }\n",
              "\n",
              "    .colab-df-convert {\n",
              "      background-color: #E8F0FE;\n",
              "      border: none;\n",
              "      border-radius: 50%;\n",
              "      cursor: pointer;\n",
              "      display: none;\n",
              "      fill: #1967D2;\n",
              "      height: 32px;\n",
              "      padding: 0 0 0 0;\n",
              "      width: 32px;\n",
              "    }\n",
              "\n",
              "    .colab-df-convert:hover {\n",
              "      background-color: #E2EBFA;\n",
              "      box-shadow: 0px 1px 2px rgba(60, 64, 67, 0.3), 0px 1px 3px 1px rgba(60, 64, 67, 0.15);\n",
              "      fill: #174EA6;\n",
              "    }\n",
              "\n",
              "    .colab-df-buttons div {\n",
              "      margin-bottom: 4px;\n",
              "    }\n",
              "\n",
              "    [theme=dark] .colab-df-convert {\n",
              "      background-color: #3B4455;\n",
              "      fill: #D2E3FC;\n",
              "    }\n",
              "\n",
              "    [theme=dark] .colab-df-convert:hover {\n",
              "      background-color: #434B5C;\n",
              "      box-shadow: 0px 1px 3px 1px rgba(0, 0, 0, 0.15);\n",
              "      filter: drop-shadow(0px 1px 2px rgba(0, 0, 0, 0.3));\n",
              "      fill: #FFFFFF;\n",
              "    }\n",
              "  </style>\n",
              "\n",
              "    <script>\n",
              "      const buttonEl =\n",
              "        document.querySelector('#df-d29c983f-8064-467e-8ca3-9ece426f43c2 button.colab-df-convert');\n",
              "      buttonEl.style.display =\n",
              "        google.colab.kernel.accessAllowed ? 'block' : 'none';\n",
              "\n",
              "      async function convertToInteractive(key) {\n",
              "        const element = document.querySelector('#df-d29c983f-8064-467e-8ca3-9ece426f43c2');\n",
              "        const dataTable =\n",
              "          await google.colab.kernel.invokeFunction('convertToInteractive',\n",
              "                                                    [key], {});\n",
              "        if (!dataTable) return;\n",
              "\n",
              "        const docLinkHtml = 'Like what you see? Visit the ' +\n",
              "          '<a target=\"_blank\" href=https://colab.research.google.com/notebooks/data_table.ipynb>data table notebook</a>'\n",
              "          + ' to learn more about interactive tables.';\n",
              "        element.innerHTML = '';\n",
              "        dataTable['output_type'] = 'display_data';\n",
              "        await google.colab.output.renderOutput(dataTable, element);\n",
              "        const docLink = document.createElement('div');\n",
              "        docLink.innerHTML = docLinkHtml;\n",
              "        element.appendChild(docLink);\n",
              "      }\n",
              "    </script>\n",
              "  </div>\n",
              "\n",
              "\n",
              "<div id=\"df-8b4823bc-adc2-44ff-b8dd-6916ab668596\">\n",
              "  <button class=\"colab-df-quickchart\" onclick=\"quickchart('df-8b4823bc-adc2-44ff-b8dd-6916ab668596')\"\n",
              "            title=\"Suggest charts\"\n",
              "            style=\"display:none;\">\n",
              "\n",
              "<svg xmlns=\"http://www.w3.org/2000/svg\" height=\"24px\"viewBox=\"0 0 24 24\"\n",
              "     width=\"24px\">\n",
              "    <g>\n",
              "        <path d=\"M19 3H5c-1.1 0-2 .9-2 2v14c0 1.1.9 2 2 2h14c1.1 0 2-.9 2-2V5c0-1.1-.9-2-2-2zM9 17H7v-7h2v7zm4 0h-2V7h2v10zm4 0h-2v-4h2v4z\"/>\n",
              "    </g>\n",
              "</svg>\n",
              "  </button>\n",
              "\n",
              "<style>\n",
              "  .colab-df-quickchart {\n",
              "      --bg-color: #E8F0FE;\n",
              "      --fill-color: #1967D2;\n",
              "      --hover-bg-color: #E2EBFA;\n",
              "      --hover-fill-color: #174EA6;\n",
              "      --disabled-fill-color: #AAA;\n",
              "      --disabled-bg-color: #DDD;\n",
              "  }\n",
              "\n",
              "  [theme=dark] .colab-df-quickchart {\n",
              "      --bg-color: #3B4455;\n",
              "      --fill-color: #D2E3FC;\n",
              "      --hover-bg-color: #434B5C;\n",
              "      --hover-fill-color: #FFFFFF;\n",
              "      --disabled-bg-color: #3B4455;\n",
              "      --disabled-fill-color: #666;\n",
              "  }\n",
              "\n",
              "  .colab-df-quickchart {\n",
              "    background-color: var(--bg-color);\n",
              "    border: none;\n",
              "    border-radius: 50%;\n",
              "    cursor: pointer;\n",
              "    display: none;\n",
              "    fill: var(--fill-color);\n",
              "    height: 32px;\n",
              "    padding: 0;\n",
              "    width: 32px;\n",
              "  }\n",
              "\n",
              "  .colab-df-quickchart:hover {\n",
              "    background-color: var(--hover-bg-color);\n",
              "    box-shadow: 0 1px 2px rgba(60, 64, 67, 0.3), 0 1px 3px 1px rgba(60, 64, 67, 0.15);\n",
              "    fill: var(--button-hover-fill-color);\n",
              "  }\n",
              "\n",
              "  .colab-df-quickchart-complete:disabled,\n",
              "  .colab-df-quickchart-complete:disabled:hover {\n",
              "    background-color: var(--disabled-bg-color);\n",
              "    fill: var(--disabled-fill-color);\n",
              "    box-shadow: none;\n",
              "  }\n",
              "\n",
              "  .colab-df-spinner {\n",
              "    border: 2px solid var(--fill-color);\n",
              "    border-color: transparent;\n",
              "    border-bottom-color: var(--fill-color);\n",
              "    animation:\n",
              "      spin 1s steps(1) infinite;\n",
              "  }\n",
              "\n",
              "  @keyframes spin {\n",
              "    0% {\n",
              "      border-color: transparent;\n",
              "      border-bottom-color: var(--fill-color);\n",
              "      border-left-color: var(--fill-color);\n",
              "    }\n",
              "    20% {\n",
              "      border-color: transparent;\n",
              "      border-left-color: var(--fill-color);\n",
              "      border-top-color: var(--fill-color);\n",
              "    }\n",
              "    30% {\n",
              "      border-color: transparent;\n",
              "      border-left-color: var(--fill-color);\n",
              "      border-top-color: var(--fill-color);\n",
              "      border-right-color: var(--fill-color);\n",
              "    }\n",
              "    40% {\n",
              "      border-color: transparent;\n",
              "      border-right-color: var(--fill-color);\n",
              "      border-top-color: var(--fill-color);\n",
              "    }\n",
              "    60% {\n",
              "      border-color: transparent;\n",
              "      border-right-color: var(--fill-color);\n",
              "    }\n",
              "    80% {\n",
              "      border-color: transparent;\n",
              "      border-right-color: var(--fill-color);\n",
              "      border-bottom-color: var(--fill-color);\n",
              "    }\n",
              "    90% {\n",
              "      border-color: transparent;\n",
              "      border-bottom-color: var(--fill-color);\n",
              "    }\n",
              "  }\n",
              "</style>\n",
              "\n",
              "  <script>\n",
              "    async function quickchart(key) {\n",
              "      const quickchartButtonEl =\n",
              "        document.querySelector('#' + key + ' button');\n",
              "      quickchartButtonEl.disabled = true;  // To prevent multiple clicks.\n",
              "      quickchartButtonEl.classList.add('colab-df-spinner');\n",
              "      try {\n",
              "        const charts = await google.colab.kernel.invokeFunction(\n",
              "            'suggestCharts', [key], {});\n",
              "      } catch (error) {\n",
              "        console.error('Error during call to suggestCharts:', error);\n",
              "      }\n",
              "      quickchartButtonEl.classList.remove('colab-df-spinner');\n",
              "      quickchartButtonEl.classList.add('colab-df-quickchart-complete');\n",
              "    }\n",
              "    (() => {\n",
              "      let quickchartButtonEl =\n",
              "        document.querySelector('#df-8b4823bc-adc2-44ff-b8dd-6916ab668596 button');\n",
              "      quickchartButtonEl.style.display =\n",
              "        google.colab.kernel.accessAllowed ? 'block' : 'none';\n",
              "    })();\n",
              "  </script>\n",
              "</div>\n",
              "\n",
              "    </div>\n",
              "  </div>\n"
            ],
            "application/vnd.google.colaboratory.intrinsic+json": {
              "type": "dataframe",
              "summary": "{\n  \"name\": \"df\",\n  \"rows\": 8,\n  \"fields\": [\n    {\n      \"column\": \"Unnamed: 0\",\n      \"properties\": {\n        \"dtype\": \"number\",\n        \"std\": 459.65771645237106,\n        \"min\": 0.0,\n        \"max\": 1276.0,\n        \"num_unique_values\": 7,\n        \"samples\": [\n          1276.0,\n          637.5,\n          956.25\n        ],\n        \"semantic_type\": \"\",\n        \"description\": \"\"\n      }\n    },\n    {\n      \"column\": \"Cylinders\",\n      \"properties\": {\n        \"dtype\": \"number\",\n        \"std\": 426.00341792964264,\n        \"min\": 1.6609570048543258,\n        \"max\": 1210.0,\n        \"num_unique_values\": 6,\n        \"samples\": [\n          1210.0,\n          4.38099173553719,\n          16.0\n        ],\n        \"semantic_type\": \"\",\n        \"description\": \"\"\n      }\n    },\n    {\n      \"column\": \"Valves_Per_Cylinder\",\n      \"properties\": {\n        \"dtype\": \"number\",\n        \"std\": 413.3912718969022,\n        \"min\": 0.8337633285172241,\n        \"max\": 1174.0,\n        \"num_unique_values\": 6,\n        \"samples\": [\n          1174.0,\n          3.9778534923339013,\n          16.0\n        ],\n        \"semantic_type\": \"\",\n        \"description\": \"\"\n      }\n    },\n    {\n      \"column\": \"Doors\",\n      \"properties\": {\n        \"dtype\": \"number\",\n        \"std\": 448.39443894314246,\n        \"min\": 0.747816056670062,\n        \"max\": 1272.0,\n        \"num_unique_values\": 6,\n        \"samples\": [\n          1272.0,\n          4.550314465408805,\n          5.0\n        ],\n        \"semantic_type\": \"\",\n        \"description\": \"\"\n      }\n    },\n    {\n      \"column\": \"Seating_Capacity\",\n      \"properties\": {\n        \"dtype\": \"number\",\n        \"std\": 447.04474504546243,\n        \"min\": 1.1452313134596839,\n        \"max\": 1270.0,\n        \"num_unique_values\": 6,\n        \"samples\": [\n          1270.0,\n          5.27007874015748,\n          16.0\n        ],\n        \"semantic_type\": \"\",\n        \"description\": \"\"\n      }\n    },\n    {\n      \"column\": \"Number_of_Airbags\",\n      \"properties\": {\n        \"dtype\": \"number\",\n        \"std\": 401.84468030866947,\n        \"min\": 1.0,\n        \"max\": 1141.0,\n        \"num_unique_values\": 7,\n        \"samples\": [\n          1141.0,\n          3.7870289219982474,\n          6.0\n        ],\n        \"semantic_type\": \"\",\n        \"description\": \"\"\n      }\n    },\n    {\n      \"column\": \"USB_Ports\",\n      \"properties\": {\n        \"dtype\": \"number\",\n        \"std\": 9.696141619566136,\n        \"min\": 0.7736421443326913,\n        \"max\": 29.0,\n        \"num_unique_values\": 6,\n        \"samples\": [\n          29.0,\n          1.793103448275862,\n          3.0\n        ],\n        \"semantic_type\": \"\",\n        \"description\": \"\"\n      }\n    }\n  ]\n}"
            }
          },
          "metadata": {},
          "execution_count": 19
        }
      ]
    },
    {
      "cell_type": "code",
      "source": [
        "df.isnull().sum()"
      ],
      "metadata": {
        "colab": {
          "base_uri": "https://localhost:8080/"
        },
        "id": "E_BAJRN0hQnd",
        "outputId": "f0ccb8b2-6c1d-493a-ca8d-b2e40514dedd"
      },
      "execution_count": null,
      "outputs": [
        {
          "output_type": "execute_result",
          "data": {
            "text/plain": [
              "Unnamed: 0              0\n",
              "Make                   75\n",
              "Model                   0\n",
              "Variant                 0\n",
              "Ex-Showroom_Price       0\n",
              "                     ... \n",
              "USB_Ports            1247\n",
              "Heads-Up_Display     1225\n",
              "Welcome_Lights       1207\n",
              "Battery              1263\n",
              "Electric_Range       1259\n",
              "Length: 141, dtype: int64"
            ]
          },
          "metadata": {},
          "execution_count": 21
        }
      ]
    },
    {
      "cell_type": "code",
      "source": [
        "df.nunique()"
      ],
      "metadata": {
        "colab": {
          "base_uri": "https://localhost:8080/"
        },
        "id": "w45w5ilChQpz",
        "outputId": "a4cae11d-9388-4cf3-bcb4-3511980974b4"
      },
      "execution_count": null,
      "outputs": [
        {
          "output_type": "execute_result",
          "data": {
            "text/plain": [
              "Unnamed: 0.1        1276\n",
              "Unnamed: 0          1276\n",
              "Make                  39\n",
              "Model                263\n",
              "Variant             1064\n",
              "                    ... \n",
              "USB_Ports              4\n",
              "Heads-Up_Display       1\n",
              "Welcome_Lights         1\n",
              "Battery                5\n",
              "Electric_Range         8\n",
              "Length: 142, dtype: int64"
            ]
          },
          "metadata": {},
          "execution_count": 75
        }
      ]
    },
    {
      "cell_type": "code",
      "source": [
        "df.isnull().sum()"
      ],
      "metadata": {
        "colab": {
          "base_uri": "https://localhost:8080/"
        },
        "id": "ACymRjcBhQsQ",
        "outputId": "1e38a76e-096d-4f2c-fbae-82e7e7f1ee7c"
      },
      "execution_count": null,
      "outputs": [
        {
          "output_type": "execute_result",
          "data": {
            "text/plain": [
              "Unnamed: 0              0\n",
              "Make                   75\n",
              "Model                   0\n",
              "Variant                 0\n",
              "Ex-Showroom_Price       0\n",
              "                     ... \n",
              "USB_Ports            1247\n",
              "Heads-Up_Display     1225\n",
              "Welcome_Lights       1207\n",
              "Battery              1263\n",
              "Electric_Range       1259\n",
              "Length: 141, dtype: int64"
            ]
          },
          "metadata": {},
          "execution_count": 23
        }
      ]
    },
    {
      "cell_type": "code",
      "source": [
        "df[df.duplicated()].count()"
      ],
      "metadata": {
        "colab": {
          "base_uri": "https://localhost:8080/"
        },
        "id": "fLKaSG0MhQu2",
        "outputId": "ccec3571-3d6c-402f-fe75-36701b97e1db"
      },
      "execution_count": null,
      "outputs": [
        {
          "output_type": "execute_result",
          "data": {
            "text/plain": [
              "Unnamed: 0           0\n",
              "Make                 0\n",
              "Model                0\n",
              "Variant              0\n",
              "Ex-Showroom_Price    0\n",
              "                    ..\n",
              "USB_Ports            0\n",
              "Heads-Up_Display     0\n",
              "Welcome_Lights       0\n",
              "Battery              0\n",
              "Electric_Range       0\n",
              "Length: 141, dtype: int64"
            ]
          },
          "metadata": {},
          "execution_count": 24
        }
      ]
    },
    {
      "cell_type": "code",
      "source": [
        "df[df.isnull()].count()"
      ],
      "metadata": {
        "colab": {
          "base_uri": "https://localhost:8080/"
        },
        "id": "_NYwn5a1hQxF",
        "outputId": "bf936550-8eab-4efb-cc31-5dac34d59f54"
      },
      "execution_count": null,
      "outputs": [
        {
          "output_type": "execute_result",
          "data": {
            "text/plain": [
              "Unnamed: 0           0\n",
              "Make                 0\n",
              "Model                0\n",
              "Variant              0\n",
              "Ex-Showroom_Price    0\n",
              "                    ..\n",
              "USB_Ports            0\n",
              "Heads-Up_Display     0\n",
              "Welcome_Lights       0\n",
              "Battery              0\n",
              "Electric_Range       0\n",
              "Length: 141, dtype: int64"
            ]
          },
          "metadata": {},
          "execution_count": 25
        }
      ]
    },
    {
      "cell_type": "code",
      "source": [
        "df=df.fillna('')\n",
        "df=df.replace(' ', '')"
      ],
      "metadata": {
        "id": "0MRCf7iWhQ0l"
      },
      "execution_count": null,
      "outputs": []
    },
    {
      "cell_type": "code",
      "source": [
        "df[df.Make =='Tata'].tail()"
      ],
      "metadata": {
        "colab": {
          "base_uri": "https://localhost:8080/",
          "height": 389
        },
        "id": "PrNlv0CVhnM9",
        "outputId": "3f374628-ef31-4943-df4a-c354b3bb10f1"
      },
      "execution_count": null,
      "outputs": [
        {
          "output_type": "execute_result",
          "data": {
            "text/plain": [
              "      Unnamed: 0  Make      Model                Variant Ex-Showroom_Price  \\\n",
              "1141        1141  Tata    Harrier  Revotorq Dark Edition     Rs. 17,30,755   \n",
              "1187        1187  Tata  Tiago Nrg          1.2L Revotron      Rs. 5,94,993   \n",
              "1188        1188  Tata  Tiago Nrg         1.05L Revotorq      Rs. 6,89,993   \n",
              "1189        1189  Tata  Tiago Nrg      1.2L Revotron Amt      Rs. 6,39,993   \n",
              "1204        1204  Tata     Winger                    15S     Rs. 12,05,000   \n",
              "\n",
              "     Displacement Cylinders Valves_Per_Cylinder               Drivetrain  \\\n",
              "1141      1956 cc       3.0                 4.0  FWD (Front Wheel Drive)   \n",
              "1187      1199 cc       3.0                 4.0  FWD (Front Wheel Drive)   \n",
              "1188      1047 cc       3.0                 4.0  FWD (Front Wheel Drive)   \n",
              "1189      1199 cc       3.0                 4.0  FWD (Front Wheel Drive)   \n",
              "1204      2200 cc       4.0                      FWD (Front Wheel Drive)   \n",
              "\n",
              "     Cylinder_Configuration  ... Leather_Wrapped_Steering Automatic_Headlamps  \\\n",
              "1141                In-line  ...                                          Yes   \n",
              "1187                In-line  ...                                                \n",
              "1188                In-line  ...                                                \n",
              "1189                In-line  ...                                                \n",
              "1204                      V  ...                                                \n",
              "\n",
              "     Engine_Type ASR_/_Traction_Control Cruise_Control USB_Ports  \\\n",
              "1141                                Yes                            \n",
              "1187                                                               \n",
              "1188                                                               \n",
              "1189                                                               \n",
              "1204                                                               \n",
              "\n",
              "     Heads-Up_Display Welcome_Lights Battery Electric_Range  \n",
              "1141                                                         \n",
              "1187                                                         \n",
              "1188                                                         \n",
              "1189                                                         \n",
              "1204                                                         \n",
              "\n",
              "[5 rows x 141 columns]"
            ],
            "text/html": [
              "\n",
              "  <div id=\"df-c7342950-edbc-4f27-ad53-4c379e579c2b\" class=\"colab-df-container\">\n",
              "    <div>\n",
              "<style scoped>\n",
              "    .dataframe tbody tr th:only-of-type {\n",
              "        vertical-align: middle;\n",
              "    }\n",
              "\n",
              "    .dataframe tbody tr th {\n",
              "        vertical-align: top;\n",
              "    }\n",
              "\n",
              "    .dataframe thead th {\n",
              "        text-align: right;\n",
              "    }\n",
              "</style>\n",
              "<table border=\"1\" class=\"dataframe\">\n",
              "  <thead>\n",
              "    <tr style=\"text-align: right;\">\n",
              "      <th></th>\n",
              "      <th>Unnamed: 0</th>\n",
              "      <th>Make</th>\n",
              "      <th>Model</th>\n",
              "      <th>Variant</th>\n",
              "      <th>Ex-Showroom_Price</th>\n",
              "      <th>Displacement</th>\n",
              "      <th>Cylinders</th>\n",
              "      <th>Valves_Per_Cylinder</th>\n",
              "      <th>Drivetrain</th>\n",
              "      <th>Cylinder_Configuration</th>\n",
              "      <th>...</th>\n",
              "      <th>Leather_Wrapped_Steering</th>\n",
              "      <th>Automatic_Headlamps</th>\n",
              "      <th>Engine_Type</th>\n",
              "      <th>ASR_/_Traction_Control</th>\n",
              "      <th>Cruise_Control</th>\n",
              "      <th>USB_Ports</th>\n",
              "      <th>Heads-Up_Display</th>\n",
              "      <th>Welcome_Lights</th>\n",
              "      <th>Battery</th>\n",
              "      <th>Electric_Range</th>\n",
              "    </tr>\n",
              "  </thead>\n",
              "  <tbody>\n",
              "    <tr>\n",
              "      <th>1141</th>\n",
              "      <td>1141</td>\n",
              "      <td>Tata</td>\n",
              "      <td>Harrier</td>\n",
              "      <td>Revotorq Dark Edition</td>\n",
              "      <td>Rs. 17,30,755</td>\n",
              "      <td>1956 cc</td>\n",
              "      <td>3.0</td>\n",
              "      <td>4.0</td>\n",
              "      <td>FWD (Front Wheel Drive)</td>\n",
              "      <td>In-line</td>\n",
              "      <td>...</td>\n",
              "      <td></td>\n",
              "      <td>Yes</td>\n",
              "      <td></td>\n",
              "      <td>Yes</td>\n",
              "      <td></td>\n",
              "      <td></td>\n",
              "      <td></td>\n",
              "      <td></td>\n",
              "      <td></td>\n",
              "      <td></td>\n",
              "    </tr>\n",
              "    <tr>\n",
              "      <th>1187</th>\n",
              "      <td>1187</td>\n",
              "      <td>Tata</td>\n",
              "      <td>Tiago Nrg</td>\n",
              "      <td>1.2L Revotron</td>\n",
              "      <td>Rs. 5,94,993</td>\n",
              "      <td>1199 cc</td>\n",
              "      <td>3.0</td>\n",
              "      <td>4.0</td>\n",
              "      <td>FWD (Front Wheel Drive)</td>\n",
              "      <td>In-line</td>\n",
              "      <td>...</td>\n",
              "      <td></td>\n",
              "      <td></td>\n",
              "      <td></td>\n",
              "      <td></td>\n",
              "      <td></td>\n",
              "      <td></td>\n",
              "      <td></td>\n",
              "      <td></td>\n",
              "      <td></td>\n",
              "      <td></td>\n",
              "    </tr>\n",
              "    <tr>\n",
              "      <th>1188</th>\n",
              "      <td>1188</td>\n",
              "      <td>Tata</td>\n",
              "      <td>Tiago Nrg</td>\n",
              "      <td>1.05L Revotorq</td>\n",
              "      <td>Rs. 6,89,993</td>\n",
              "      <td>1047 cc</td>\n",
              "      <td>3.0</td>\n",
              "      <td>4.0</td>\n",
              "      <td>FWD (Front Wheel Drive)</td>\n",
              "      <td>In-line</td>\n",
              "      <td>...</td>\n",
              "      <td></td>\n",
              "      <td></td>\n",
              "      <td></td>\n",
              "      <td></td>\n",
              "      <td></td>\n",
              "      <td></td>\n",
              "      <td></td>\n",
              "      <td></td>\n",
              "      <td></td>\n",
              "      <td></td>\n",
              "    </tr>\n",
              "    <tr>\n",
              "      <th>1189</th>\n",
              "      <td>1189</td>\n",
              "      <td>Tata</td>\n",
              "      <td>Tiago Nrg</td>\n",
              "      <td>1.2L Revotron Amt</td>\n",
              "      <td>Rs. 6,39,993</td>\n",
              "      <td>1199 cc</td>\n",
              "      <td>3.0</td>\n",
              "      <td>4.0</td>\n",
              "      <td>FWD (Front Wheel Drive)</td>\n",
              "      <td>In-line</td>\n",
              "      <td>...</td>\n",
              "      <td></td>\n",
              "      <td></td>\n",
              "      <td></td>\n",
              "      <td></td>\n",
              "      <td></td>\n",
              "      <td></td>\n",
              "      <td></td>\n",
              "      <td></td>\n",
              "      <td></td>\n",
              "      <td></td>\n",
              "    </tr>\n",
              "    <tr>\n",
              "      <th>1204</th>\n",
              "      <td>1204</td>\n",
              "      <td>Tata</td>\n",
              "      <td>Winger</td>\n",
              "      <td>15S</td>\n",
              "      <td>Rs. 12,05,000</td>\n",
              "      <td>2200 cc</td>\n",
              "      <td>4.0</td>\n",
              "      <td></td>\n",
              "      <td>FWD (Front Wheel Drive)</td>\n",
              "      <td>V</td>\n",
              "      <td>...</td>\n",
              "      <td></td>\n",
              "      <td></td>\n",
              "      <td></td>\n",
              "      <td></td>\n",
              "      <td></td>\n",
              "      <td></td>\n",
              "      <td></td>\n",
              "      <td></td>\n",
              "      <td></td>\n",
              "      <td></td>\n",
              "    </tr>\n",
              "  </tbody>\n",
              "</table>\n",
              "<p>5 rows × 141 columns</p>\n",
              "</div>\n",
              "    <div class=\"colab-df-buttons\">\n",
              "\n",
              "  <div class=\"colab-df-container\">\n",
              "    <button class=\"colab-df-convert\" onclick=\"convertToInteractive('df-c7342950-edbc-4f27-ad53-4c379e579c2b')\"\n",
              "            title=\"Convert this dataframe to an interactive table.\"\n",
              "            style=\"display:none;\">\n",
              "\n",
              "  <svg xmlns=\"http://www.w3.org/2000/svg\" height=\"24px\" viewBox=\"0 -960 960 960\">\n",
              "    <path d=\"M120-120v-720h720v720H120Zm60-500h600v-160H180v160Zm220 220h160v-160H400v160Zm0 220h160v-160H400v160ZM180-400h160v-160H180v160Zm440 0h160v-160H620v160ZM180-180h160v-160H180v160Zm440 0h160v-160H620v160Z\"/>\n",
              "  </svg>\n",
              "    </button>\n",
              "\n",
              "  <style>\n",
              "    .colab-df-container {\n",
              "      display:flex;\n",
              "      gap: 12px;\n",
              "    }\n",
              "\n",
              "    .colab-df-convert {\n",
              "      background-color: #E8F0FE;\n",
              "      border: none;\n",
              "      border-radius: 50%;\n",
              "      cursor: pointer;\n",
              "      display: none;\n",
              "      fill: #1967D2;\n",
              "      height: 32px;\n",
              "      padding: 0 0 0 0;\n",
              "      width: 32px;\n",
              "    }\n",
              "\n",
              "    .colab-df-convert:hover {\n",
              "      background-color: #E2EBFA;\n",
              "      box-shadow: 0px 1px 2px rgba(60, 64, 67, 0.3), 0px 1px 3px 1px rgba(60, 64, 67, 0.15);\n",
              "      fill: #174EA6;\n",
              "    }\n",
              "\n",
              "    .colab-df-buttons div {\n",
              "      margin-bottom: 4px;\n",
              "    }\n",
              "\n",
              "    [theme=dark] .colab-df-convert {\n",
              "      background-color: #3B4455;\n",
              "      fill: #D2E3FC;\n",
              "    }\n",
              "\n",
              "    [theme=dark] .colab-df-convert:hover {\n",
              "      background-color: #434B5C;\n",
              "      box-shadow: 0px 1px 3px 1px rgba(0, 0, 0, 0.15);\n",
              "      filter: drop-shadow(0px 1px 2px rgba(0, 0, 0, 0.3));\n",
              "      fill: #FFFFFF;\n",
              "    }\n",
              "  </style>\n",
              "\n",
              "    <script>\n",
              "      const buttonEl =\n",
              "        document.querySelector('#df-c7342950-edbc-4f27-ad53-4c379e579c2b button.colab-df-convert');\n",
              "      buttonEl.style.display =\n",
              "        google.colab.kernel.accessAllowed ? 'block' : 'none';\n",
              "\n",
              "      async function convertToInteractive(key) {\n",
              "        const element = document.querySelector('#df-c7342950-edbc-4f27-ad53-4c379e579c2b');\n",
              "        const dataTable =\n",
              "          await google.colab.kernel.invokeFunction('convertToInteractive',\n",
              "                                                    [key], {});\n",
              "        if (!dataTable) return;\n",
              "\n",
              "        const docLinkHtml = 'Like what you see? Visit the ' +\n",
              "          '<a target=\"_blank\" href=https://colab.research.google.com/notebooks/data_table.ipynb>data table notebook</a>'\n",
              "          + ' to learn more about interactive tables.';\n",
              "        element.innerHTML = '';\n",
              "        dataTable['output_type'] = 'display_data';\n",
              "        await google.colab.output.renderOutput(dataTable, element);\n",
              "        const docLink = document.createElement('div');\n",
              "        docLink.innerHTML = docLinkHtml;\n",
              "        element.appendChild(docLink);\n",
              "      }\n",
              "    </script>\n",
              "  </div>\n",
              "\n",
              "\n",
              "<div id=\"df-43ff5db5-6393-46fe-8924-c2e626d89d6b\">\n",
              "  <button class=\"colab-df-quickchart\" onclick=\"quickchart('df-43ff5db5-6393-46fe-8924-c2e626d89d6b')\"\n",
              "            title=\"Suggest charts\"\n",
              "            style=\"display:none;\">\n",
              "\n",
              "<svg xmlns=\"http://www.w3.org/2000/svg\" height=\"24px\"viewBox=\"0 0 24 24\"\n",
              "     width=\"24px\">\n",
              "    <g>\n",
              "        <path d=\"M19 3H5c-1.1 0-2 .9-2 2v14c0 1.1.9 2 2 2h14c1.1 0 2-.9 2-2V5c0-1.1-.9-2-2-2zM9 17H7v-7h2v7zm4 0h-2V7h2v10zm4 0h-2v-4h2v4z\"/>\n",
              "    </g>\n",
              "</svg>\n",
              "  </button>\n",
              "\n",
              "<style>\n",
              "  .colab-df-quickchart {\n",
              "      --bg-color: #E8F0FE;\n",
              "      --fill-color: #1967D2;\n",
              "      --hover-bg-color: #E2EBFA;\n",
              "      --hover-fill-color: #174EA6;\n",
              "      --disabled-fill-color: #AAA;\n",
              "      --disabled-bg-color: #DDD;\n",
              "  }\n",
              "\n",
              "  [theme=dark] .colab-df-quickchart {\n",
              "      --bg-color: #3B4455;\n",
              "      --fill-color: #D2E3FC;\n",
              "      --hover-bg-color: #434B5C;\n",
              "      --hover-fill-color: #FFFFFF;\n",
              "      --disabled-bg-color: #3B4455;\n",
              "      --disabled-fill-color: #666;\n",
              "  }\n",
              "\n",
              "  .colab-df-quickchart {\n",
              "    background-color: var(--bg-color);\n",
              "    border: none;\n",
              "    border-radius: 50%;\n",
              "    cursor: pointer;\n",
              "    display: none;\n",
              "    fill: var(--fill-color);\n",
              "    height: 32px;\n",
              "    padding: 0;\n",
              "    width: 32px;\n",
              "  }\n",
              "\n",
              "  .colab-df-quickchart:hover {\n",
              "    background-color: var(--hover-bg-color);\n",
              "    box-shadow: 0 1px 2px rgba(60, 64, 67, 0.3), 0 1px 3px 1px rgba(60, 64, 67, 0.15);\n",
              "    fill: var(--button-hover-fill-color);\n",
              "  }\n",
              "\n",
              "  .colab-df-quickchart-complete:disabled,\n",
              "  .colab-df-quickchart-complete:disabled:hover {\n",
              "    background-color: var(--disabled-bg-color);\n",
              "    fill: var(--disabled-fill-color);\n",
              "    box-shadow: none;\n",
              "  }\n",
              "\n",
              "  .colab-df-spinner {\n",
              "    border: 2px solid var(--fill-color);\n",
              "    border-color: transparent;\n",
              "    border-bottom-color: var(--fill-color);\n",
              "    animation:\n",
              "      spin 1s steps(1) infinite;\n",
              "  }\n",
              "\n",
              "  @keyframes spin {\n",
              "    0% {\n",
              "      border-color: transparent;\n",
              "      border-bottom-color: var(--fill-color);\n",
              "      border-left-color: var(--fill-color);\n",
              "    }\n",
              "    20% {\n",
              "      border-color: transparent;\n",
              "      border-left-color: var(--fill-color);\n",
              "      border-top-color: var(--fill-color);\n",
              "    }\n",
              "    30% {\n",
              "      border-color: transparent;\n",
              "      border-left-color: var(--fill-color);\n",
              "      border-top-color: var(--fill-color);\n",
              "      border-right-color: var(--fill-color);\n",
              "    }\n",
              "    40% {\n",
              "      border-color: transparent;\n",
              "      border-right-color: var(--fill-color);\n",
              "      border-top-color: var(--fill-color);\n",
              "    }\n",
              "    60% {\n",
              "      border-color: transparent;\n",
              "      border-right-color: var(--fill-color);\n",
              "    }\n",
              "    80% {\n",
              "      border-color: transparent;\n",
              "      border-right-color: var(--fill-color);\n",
              "      border-bottom-color: var(--fill-color);\n",
              "    }\n",
              "    90% {\n",
              "      border-color: transparent;\n",
              "      border-bottom-color: var(--fill-color);\n",
              "    }\n",
              "  }\n",
              "</style>\n",
              "\n",
              "  <script>\n",
              "    async function quickchart(key) {\n",
              "      const quickchartButtonEl =\n",
              "        document.querySelector('#' + key + ' button');\n",
              "      quickchartButtonEl.disabled = true;  // To prevent multiple clicks.\n",
              "      quickchartButtonEl.classList.add('colab-df-spinner');\n",
              "      try {\n",
              "        const charts = await google.colab.kernel.invokeFunction(\n",
              "            'suggestCharts', [key], {});\n",
              "      } catch (error) {\n",
              "        console.error('Error during call to suggestCharts:', error);\n",
              "      }\n",
              "      quickchartButtonEl.classList.remove('colab-df-spinner');\n",
              "      quickchartButtonEl.classList.add('colab-df-quickchart-complete');\n",
              "    }\n",
              "    (() => {\n",
              "      let quickchartButtonEl =\n",
              "        document.querySelector('#df-43ff5db5-6393-46fe-8924-c2e626d89d6b button');\n",
              "      quickchartButtonEl.style.display =\n",
              "        google.colab.kernel.accessAllowed ? 'block' : 'none';\n",
              "    })();\n",
              "  </script>\n",
              "</div>\n",
              "\n",
              "    </div>\n",
              "  </div>\n"
            ],
            "application/vnd.google.colaboratory.intrinsic+json": {
              "type": "dataframe"
            }
          },
          "metadata": {},
          "execution_count": 27
        }
      ]
    },
    {
      "cell_type": "code",
      "source": [
        "fig = plt.figure(figsize = (10,20))\n",
        "ax = fig.subplots()\n",
        "df.Make.value_counts().plot(ax=ax, kind='pie')\n",
        "ax.set_ylabel(\"\")\n",
        "ax.set_title(\"Top Car Making Companies in India\")\n",
        "plt.show()"
      ],
      "metadata": {
        "colab": {
          "base_uri": "https://localhost:8080/",
          "height": 834
        },
        "id": "zRxybz8JhnPd",
        "outputId": "e86bf8ef-00ce-4b9f-8e6a-a7bb4c95406a"
      },
      "execution_count": null,
      "outputs": [
        {
          "output_type": "display_data",
          "data": {
            "text/plain": [
              "<Figure size 1000x2000 with 1 Axes>"
            ],
            "image/png": "[encoded data removed]"
          },
          "metadata": {}
        }
      ]
    },
    {
      "cell_type": "code",
      "source": [
        "df.head()"
      ],
      "metadata": {
        "colab": {
          "base_uri": "https://localhost:8080/",
          "height": 355
        },
        "id": "fcX5C6P7YzIy",
        "outputId": "b8aa3108-33f6-4e10-dc40-058e2f611e68"
      },
      "execution_count": null,
      "outputs": [
        {
          "output_type": "execute_result",
          "data": {
            "text/plain": [
              "   Unnamed: 0  Make      Model  Variant Ex-Showroom_Price Displacement  \\\n",
              "0           0  Tata  Nano Genx       Xt      Rs. 2,92,667       624 cc   \n",
              "1           1  Tata  Nano Genx       Xe      Rs. 2,36,447       624 cc   \n",
              "2           2  Tata  Nano Genx  Emax Xm      Rs. 2,96,661       624 cc   \n",
              "3           3  Tata  Nano Genx      Xta      Rs. 3,34,768       624 cc   \n",
              "4           4  Tata  Nano Genx       Xm      Rs. 2,72,223       624 cc   \n",
              "\n",
              "   Cylinders  Valves_Per_Cylinder              Drivetrain  \\\n",
              "0        2.0                  2.0  RWD (Rear Wheel Drive)   \n",
              "1        2.0                  2.0  RWD (Rear Wheel Drive)   \n",
              "2        2.0                  2.0  RWD (Rear Wheel Drive)   \n",
              "3        2.0                  2.0  RWD (Rear Wheel Drive)   \n",
              "4        2.0                  2.0  RWD (Rear Wheel Drive)   \n",
              "\n",
              "  Cylinder_Configuration  ... Leather_Wrapped_Steering Automatic_Headlamps  \\\n",
              "0                In-line  ...                      NaN                 NaN   \n",
              "1                In-line  ...                      NaN                 NaN   \n",
              "2                In-line  ...                      NaN                 NaN   \n",
              "3                In-line  ...                      NaN                 NaN   \n",
              "4                In-line  ...                      NaN                 NaN   \n",
              "\n",
              "  Engine_Type ASR_/_Traction_Control Cruise_Control USB_Ports  \\\n",
              "0         NaN                    NaN            NaN       NaN   \n",
              "1         NaN                    NaN            NaN       NaN   \n",
              "2         NaN                    NaN            NaN       NaN   \n",
              "3         NaN                    NaN            NaN       NaN   \n",
              "4         NaN                    NaN            NaN       NaN   \n",
              "\n",
              "  Heads-Up_Display Welcome_Lights Battery  Electric_Range  \n",
              "0              NaN            NaN     NaN             NaN  \n",
              "1              NaN            NaN     NaN             NaN  \n",
              "2              NaN            NaN     NaN             NaN  \n",
              "3              NaN            NaN     NaN             NaN  \n",
              "4              NaN            NaN     NaN             NaN  \n",
              "\n",
              "[5 rows x 141 columns]"
            ],
            "text/html": [
              "\n",
              "  <div id=\"df-3fd8106a-286c-4c28-887a-73b59faa8fc3\" class=\"colab-df-container\">\n",
              "    <div>\n",
              "<style scoped>\n",
              "    .dataframe tbody tr th:only-of-type {\n",
              "        vertical-align: middle;\n",
              "    }\n",
              "\n",
              "    .dataframe tbody tr th {\n",
              "        vertical-align: top;\n",
              "    }\n",
              "\n",
              "    .dataframe thead th {\n",
              "        text-align: right;\n",
              "    }\n",
              "</style>\n",
              "<table border=\"1\" class=\"dataframe\">\n",
              "  <thead>\n",
              "    <tr style=\"text-align: right;\">\n",
              "      <th></th>\n",
              "      <th>Unnamed: 0</th>\n",
              "      <th>Make</th>\n",
              "      <th>Model</th>\n",
              "      <th>Variant</th>\n",
              "      <th>Ex-Showroom_Price</th>\n",
              "      <th>Displacement</th>\n",
              "      <th>Cylinders</th>\n",
              "      <th>Valves_Per_Cylinder</th>\n",
              "      <th>Drivetrain</th>\n",
              "      <th>Cylinder_Configuration</th>\n",
              "      <th>...</th>\n",
              "      <th>Leather_Wrapped_Steering</th>\n",
              "      <th>Automatic_Headlamps</th>\n",
              "      <th>Engine_Type</th>\n",
              "      <th>ASR_/_Traction_Control</th>\n",
              "      <th>Cruise_Control</th>\n",
              "      <th>USB_Ports</th>\n",
              "      <th>Heads-Up_Display</th>\n",
              "      <th>Welcome_Lights</th>\n",
              "      <th>Battery</th>\n",
              "      <th>Electric_Range</th>\n",
              "    </tr>\n",
              "  </thead>\n",
              "  <tbody>\n",
              "    <tr>\n",
              "      <th>0</th>\n",
              "      <td>0</td>\n",
              "      <td>Tata</td>\n",
              "      <td>Nano Genx</td>\n",
              "      <td>Xt</td>\n",
              "      <td>Rs. 2,92,667</td>\n",
              "      <td>624 cc</td>\n",
              "      <td>2.0</td>\n",
              "      <td>2.0</td>\n",
              "      <td>RWD (Rear Wheel Drive)</td>\n",
              "      <td>In-line</td>\n",
              "      <td>...</td>\n",
              "      <td>NaN</td>\n",
              "      <td>NaN</td>\n",
              "      <td>NaN</td>\n",
              "      <td>NaN</td>\n",
              "      <td>NaN</td>\n",
              "      <td>NaN</td>\n",
              "      <td>NaN</td>\n",
              "      <td>NaN</td>\n",
              "      <td>NaN</td>\n",
              "      <td>NaN</td>\n",
              "    </tr>\n",
              "    <tr>\n",
              "      <th>1</th>\n",
              "      <td>1</td>\n",
              "      <td>Tata</td>\n",
              "      <td>Nano Genx</td>\n",
              "      <td>Xe</td>\n",
              "      <td>Rs. 2,36,447</td>\n",
              "      <td>624 cc</td>\n",
              "      <td>2.0</td>\n",
              "      <td>2.0</td>\n",
              "      <td>RWD (Rear Wheel Drive)</td>\n",
              "      <td>In-line</td>\n",
              "      <td>...</td>\n",
              "      <td>NaN</td>\n",
              "      <td>NaN</td>\n",
              "      <td>NaN</td>\n",
              "      <td>NaN</td>\n",
              "      <td>NaN</td>\n",
              "      <td>NaN</td>\n",
              "      <td>NaN</td>\n",
              "      <td>NaN</td>\n",
              "      <td>NaN</td>\n",
              "      <td>NaN</td>\n",
              "    </tr>\n",
              "    <tr>\n",
              "      <th>2</th>\n",
              "      <td>2</td>\n",
              "      <td>Tata</td>\n",
              "      <td>Nano Genx</td>\n",
              "      <td>Emax Xm</td>\n",
              "      <td>Rs. 2,96,661</td>\n",
              "      <td>624 cc</td>\n",
              "      <td>2.0</td>\n",
              "      <td>2.0</td>\n",
              "      <td>RWD (Rear Wheel Drive)</td>\n",
              "      <td>In-line</td>\n",
              "      <td>...</td>\n",
              "      <td>NaN</td>\n",
              "      <td>NaN</td>\n",
              "      <td>NaN</td>\n",
              "      <td>NaN</td>\n",
              "      <td>NaN</td>\n",
              "      <td>NaN</td>\n",
              "      <td>NaN</td>\n",
              "      <td>NaN</td>\n",
              "      <td>NaN</td>\n",
              "      <td>NaN</td>\n",
              "    </tr>\n",
              "    <tr>\n",
              "      <th>3</th>\n",
              "      <td>3</td>\n",
              "      <td>Tata</td>\n",
              "      <td>Nano Genx</td>\n",
              "      <td>Xta</td>\n",
              "      <td>Rs. 3,34,768</td>\n",
              "      <td>624 cc</td>\n",
              "      <td>2.0</td>\n",
              "      <td>2.0</td>\n",
              "      <td>RWD (Rear Wheel Drive)</td>\n",
              "      <td>In-line</td>\n",
              "      <td>...</td>\n",
              "      <td>NaN</td>\n",
              "      <td>NaN</td>\n",
              "      <td>NaN</td>\n",
              "      <td>NaN</td>\n",
              "      <td>NaN</td>\n",
              "      <td>NaN</td>\n",
              "      <td>NaN</td>\n",
              "      <td>NaN</td>\n",
              "      <td>NaN</td>\n",
              "      <td>NaN</td>\n",
              "    </tr>\n",
              "    <tr>\n",
              "      <th>4</th>\n",
              "      <td>4</td>\n",
              "      <td>Tata</td>\n",
              "      <td>Nano Genx</td>\n",
              "      <td>Xm</td>\n",
              "      <td>Rs. 2,72,223</td>\n",
              "      <td>624 cc</td>\n",
              "      <td>2.0</td>\n",
              "      <td>2.0</td>\n",
              "      <td>RWD (Rear Wheel Drive)</td>\n",
              "      <td>In-line</td>\n",
              "      <td>...</td>\n",
              "      <td>NaN</td>\n",
              "      <td>NaN</td>\n",
              "      <td>NaN</td>\n",
              "      <td>NaN</td>\n",
              "      <td>NaN</td>\n",
              "      <td>NaN</td>\n",
              "      <td>NaN</td>\n",
              "      <td>NaN</td>\n",
              "      <td>NaN</td>\n",
              "      <td>NaN</td>\n",
              "    </tr>\n",
              "  </tbody>\n",
              "</table>\n",
              "<p>5 rows × 141 columns</p>\n",
              "</div>\n",
              "    <div class=\"colab-df-buttons\">\n",
              "\n",
              "  <div class=\"colab-df-container\">\n",
              "    <button class=\"colab-df-convert\" onclick=\"convertToInteractive('df-3fd8106a-286c-4c28-887a-73b59faa8fc3')\"\n",
              "            title=\"Convert this dataframe to an interactive table.\"\n",
              "            style=\"display:none;\">\n",
              "\n",
              "  <svg xmlns=\"http://www.w3.org/2000/svg\" height=\"24px\" viewBox=\"0 -960 960 960\">\n",
              "    <path d=\"M120-120v-720h720v720H120Zm60-500h600v-160H180v160Zm220 220h160v-160H400v160Zm0 220h160v-160H400v160ZM180-400h160v-160H180v160Zm440 0h160v-160H620v160ZM180-180h160v-160H180v160Zm440 0h160v-160H620v160Z\"/>\n",
              "  </svg>\n",
              "    </button>\n",
              "\n",
              "  <style>\n",
              "    .colab-df-container {\n",
              "      display:flex;\n",
              "      gap: 12px;\n",
              "    }\n",
              "\n",
              "    .colab-df-convert {\n",
              "      background-color: #E8F0FE;\n",
              "      border: none;\n",
              "      border-radius: 50%;\n",
              "      cursor: pointer;\n",
              "      display: none;\n",
              "      fill: #1967D2;\n",
              "      height: 32px;\n",
              "      padding: 0 0 0 0;\n",
              "      width: 32px;\n",
              "    }\n",
              "\n",
              "    .colab-df-convert:hover {\n",
              "      background-color: #E2EBFA;\n",
              "      box-shadow: 0px 1px 2px rgba(60, 64, 67, 0.3), 0px 1px 3px 1px rgba(60, 64, 67, 0.15);\n",
              "      fill: #174EA6;\n",
              "    }\n",
              "\n",
              "    .colab-df-buttons div {\n",
              "      margin-bottom: 4px;\n",
              "    }\n",
              "\n",
              "    [theme=dark] .colab-df-convert {\n",
              "      background-color: #3B4455;\n",
              "      fill: #D2E3FC;\n",
              "    }\n",
              "\n",
              "    [theme=dark] .colab-df-convert:hover {\n",
              "      background-color: #434B5C;\n",
              "      box-shadow: 0px 1px 3px 1px rgba(0, 0, 0, 0.15);\n",
              "      filter: drop-shadow(0px 1px 2px rgba(0, 0, 0, 0.3));\n",
              "      fill: #FFFFFF;\n",
              "    }\n",
              "  </style>\n",
              "\n",
              "    <script>\n",
              "      const buttonEl =\n",
              "        document.querySelector('#df-3fd8106a-286c-4c28-887a-73b59faa8fc3 button.colab-df-convert');\n",
              "      buttonEl.style.display =\n",
              "        google.colab.kernel.accessAllowed ? 'block' : 'none';\n",
              "\n",
              "      async function convertToInteractive(key) {\n",
              "        const element = document.querySelector('#df-3fd8106a-286c-4c28-887a-73b59faa8fc3');\n",
              "        const dataTable =\n",
              "          await google.colab.kernel.invokeFunction('convertToInteractive',\n",
              "                                                    [key], {});\n",
              "        if (!dataTable) return;\n",
              "\n",
              "        const docLinkHtml = 'Like what you see? Visit the ' +\n",
              "          '<a target=\"_blank\" href=https://colab.research.google.com/notebooks/data_table.ipynb>data table notebook</a>'\n",
              "          + ' to learn more about interactive tables.';\n",
              "        element.innerHTML = '';\n",
              "        dataTable['output_type'] = 'display_data';\n",
              "        await google.colab.output.renderOutput(dataTable, element);\n",
              "        const docLink = document.createElement('div');\n",
              "        docLink.innerHTML = docLinkHtml;\n",
              "        element.appendChild(docLink);\n",
              "      }\n",
              "    </script>\n",
              "  </div>\n",
              "\n",
              "\n",
              "<div id=\"df-fdce2275-265b-4d3e-a1e9-0de2ea8381d8\">\n",
              "  <button class=\"colab-df-quickchart\" onclick=\"quickchart('df-fdce2275-265b-4d3e-a1e9-0de2ea8381d8')\"\n",
              "            title=\"Suggest charts\"\n",
              "            style=\"display:none;\">\n",
              "\n",
              "<svg xmlns=\"http://www.w3.org/2000/svg\" height=\"24px\"viewBox=\"0 0 24 24\"\n",
              "     width=\"24px\">\n",
              "    <g>\n",
              "        <path d=\"M19 3H5c-1.1 0-2 .9-2 2v14c0 1.1.9 2 2 2h14c1.1 0 2-.9 2-2V5c0-1.1-.9-2-2-2zM9 17H7v-7h2v7zm4 0h-2V7h2v10zm4 0h-2v-4h2v4z\"/>\n",
              "    </g>\n",
              "</svg>\n",
              "  </button>\n",
              "\n",
              "<style>\n",
              "  .colab-df-quickchart {\n",
              "      --bg-color: #E8F0FE;\n",
              "      --fill-color: #1967D2;\n",
              "      --hover-bg-color: #E2EBFA;\n",
              "      --hover-fill-color: #174EA6;\n",
              "      --disabled-fill-color: #AAA;\n",
              "      --disabled-bg-color: #DDD;\n",
              "  }\n",
              "\n",
              "  [theme=dark] .colab-df-quickchart {\n",
              "      --bg-color: #3B4455;\n",
              "      --fill-color: #D2E3FC;\n",
              "      --hover-bg-color: #434B5C;\n",
              "      --hover-fill-color: #FFFFFF;\n",
              "      --disabled-bg-color: #3B4455;\n",
              "      --disabled-fill-color: #666;\n",
              "  }\n",
              "\n",
              "  .colab-df-quickchart {\n",
              "    background-color: var(--bg-color);\n",
              "    border: none;\n",
              "    border-radius: 50%;\n",
              "    cursor: pointer;\n",
              "    display: none;\n",
              "    fill: var(--fill-color);\n",
              "    height: 32px;\n",
              "    padding: 0;\n",
              "    width: 32px;\n",
              "  }\n",
              "\n",
              "  .colab-df-quickchart:hover {\n",
              "    background-color: var(--hover-bg-color);\n",
              "    box-shadow: 0 1px 2px rgba(60, 64, 67, 0.3), 0 1px 3px 1px rgba(60, 64, 67, 0.15);\n",
              "    fill: var(--button-hover-fill-color);\n",
              "  }\n",
              "\n",
              "  .colab-df-quickchart-complete:disabled,\n",
              "  .colab-df-quickchart-complete:disabled:hover {\n",
              "    background-color: var(--disabled-bg-color);\n",
              "    fill: var(--disabled-fill-color);\n",
              "    box-shadow: none;\n",
              "  }\n",
              "\n",
              "  .colab-df-spinner {\n",
              "    border: 2px solid var(--fill-color);\n",
              "    border-color: transparent;\n",
              "    border-bottom-color: var(--fill-color);\n",
              "    animation:\n",
              "      spin 1s steps(1) infinite;\n",
              "  }\n",
              "\n",
              "  @keyframes spin {\n",
              "    0% {\n",
              "      border-color: transparent;\n",
              "      border-bottom-color: var(--fill-color);\n",
              "      border-left-color: var(--fill-color);\n",
              "    }\n",
              "    20% {\n",
              "      border-color: transparent;\n",
              "      border-left-color: var(--fill-color);\n",
              "      border-top-color: var(--fill-color);\n",
              "    }\n",
              "    30% {\n",
              "      border-color: transparent;\n",
              "      border-left-color: var(--fill-color);\n",
              "      border-top-color: var(--fill-color);\n",
              "      border-right-color: var(--fill-color);\n",
              "    }\n",
              "    40% {\n",
              "      border-color: transparent;\n",
              "      border-right-color: var(--fill-color);\n",
              "      border-top-color: var(--fill-color);\n",
              "    }\n",
              "    60% {\n",
              "      border-color: transparent;\n",
              "      border-right-color: var(--fill-color);\n",
              "    }\n",
              "    80% {\n",
              "      border-color: transparent;\n",
              "      border-right-color: var(--fill-color);\n",
              "      border-bottom-color: var(--fill-color);\n",
              "    }\n",
              "    90% {\n",
              "      border-color: transparent;\n",
              "      border-bottom-color: var(--fill-color);\n",
              "    }\n",
              "  }\n",
              "</style>\n",
              "\n",
              "  <script>\n",
              "    async function quickchart(key) {\n",
              "      const quickchartButtonEl =\n",
              "        document.querySelector('#' + key + ' button');\n",
              "      quickchartButtonEl.disabled = true;  // To prevent multiple clicks.\n",
              "      quickchartButtonEl.classList.add('colab-df-spinner');\n",
              "      try {\n",
              "        const charts = await google.colab.kernel.invokeFunction(\n",
              "            'suggestCharts', [key], {});\n",
              "      } catch (error) {\n",
              "        console.error('Error during call to suggestCharts:', error);\n",
              "      }\n",
              "      quickchartButtonEl.classList.remove('colab-df-spinner');\n",
              "      quickchartButtonEl.classList.add('colab-df-quickchart-complete');\n",
              "    }\n",
              "    (() => {\n",
              "      let quickchartButtonEl =\n",
              "        document.querySelector('#df-fdce2275-265b-4d3e-a1e9-0de2ea8381d8 button');\n",
              "      quickchartButtonEl.style.display =\n",
              "        google.colab.kernel.accessAllowed ? 'block' : 'none';\n",
              "    })();\n",
              "  </script>\n",
              "</div>\n",
              "\n",
              "    </div>\n",
              "  </div>\n"
            ],
            "application/vnd.google.colaboratory.intrinsic+json": {
              "type": "dataframe",
              "variable_name": "df"
            }
          },
          "metadata": {},
          "execution_count": 11
        }
      ]
    },
    {
      "cell_type": "code",
      "source": [
        "df.info()"
      ],
      "metadata": {
        "colab": {
          "base_uri": "https://localhost:8080/"
        },
        "id": "PMlnqaFDYzLZ",
        "outputId": "d281b2ca-9a29-4e5f-e642-b5aeacb51f63"
      },
      "execution_count": null,
      "outputs": [
        {
          "output_type": "stream",
          "name": "stdout",
          "text": [
            "<class 'pandas.core.frame.DataFrame'>\n",
            "RangeIndex: 1276 entries, 0 to 1275\n",
            "Columns: 141 entries, Unnamed: 0 to Electric_Range\n",
            "dtypes: float64(6), int64(1), object(134)\n",
            "memory usage: 1.4+ MB\n"
          ]
        }
      ]
    },
    {
      "cell_type": "code",
      "source": [
        "df = pd.read_csv(\"/content/cars_ds_final.csv\")"
      ],
      "metadata": {
        "id": "0oT0lIZZdxBi"
      },
      "execution_count": null,
      "outputs": []
    },
    {
      "cell_type": "code",
      "source": [
        "df.isnull().sum()"
      ],
      "metadata": {
        "id": "JX3-1BlhdxEH",
        "colab": {
          "base_uri": "https://localhost:8080/"
        },
        "outputId": "f0723669-ca16-44b0-e518-f09e6f430bea"
      },
      "execution_count": null,
      "outputs": [
        {
          "output_type": "execute_result",
          "data": {
            "text/plain": [
              "Unnamed: 0              0\n",
              "Make                   75\n",
              "Model                   0\n",
              "Variant                 0\n",
              "Ex-Showroom_Price       0\n",
              "                     ... \n",
              "USB_Ports            1247\n",
              "Heads-Up_Display     1225\n",
              "Welcome_Lights       1207\n",
              "Battery              1263\n",
              "Electric_Range       1259\n",
              "Length: 141, dtype: int64"
            ]
          },
          "metadata": {},
          "execution_count": 33
        }
      ]
    },
    {
      "cell_type": "code",
      "source": [
        "df.fillna(df.mean(), inplace=True)"
      ],
      "metadata": {
        "id": "IybN2f3SdxGb",
        "colab": {
          "base_uri": "https://localhost:8080/"
        },
        "outputId": "ccd0ae2b-5981-450f-eed2-d1b22f05f29f"
      },
      "execution_count": null,
      "outputs": [
        {
          "output_type": "stream",
          "name": "stderr",
          "text": [
            "<ipython-input-34-bf934754a5b1>:1: FutureWarning: The default value of numeric_only in DataFrame.mean is deprecated. In a future version, it will default to False. In addition, specifying 'numeric_only=None' is deprecated. Select only valid columns or specify the value of numeric_only to silence this warning.\n",
            "  df.fillna(df.mean(), inplace=True)\n"
          ]
        }
      ]
    },
    {
      "cell_type": "code",
      "source": [
        "df.fillna(df.mode().iloc[0], inplace=True)"
      ],
      "metadata": {
        "id": "dVSgf16CihI4"
      },
      "execution_count": null,
      "outputs": []
    },
    {
      "cell_type": "code",
      "source": [
        "df.dropna(inplace=True)"
      ],
      "metadata": {
        "id": "sBbX7viFihLR"
      },
      "execution_count": null,
      "outputs": []
    },
    {
      "cell_type": "code",
      "source": [
        "df.isnull().sum()"
      ],
      "metadata": {
        "colab": {
          "base_uri": "https://localhost:8080/"
        },
        "id": "wULxL20AihND",
        "outputId": "fde4c6bf-34d8-489c-873a-f41211cdf277"
      },
      "execution_count": null,
      "outputs": [
        {
          "output_type": "execute_result",
          "data": {
            "text/plain": [
              "Unnamed: 0           0\n",
              "Make                 0\n",
              "Model                0\n",
              "Variant              0\n",
              "Ex-Showroom_Price    0\n",
              "                    ..\n",
              "USB_Ports            0\n",
              "Heads-Up_Display     0\n",
              "Welcome_Lights       0\n",
              "Battery              0\n",
              "Electric_Range       0\n",
              "Length: 141, dtype: int64"
            ]
          },
          "metadata": {},
          "execution_count": 38
        }
      ]
    },
    {
      "cell_type": "code",
      "source": [
        "df.to_csv(\"/content/cars_ds_final.csv\")"
      ],
      "metadata": {
        "id": "KA5rZvh4ihO9"
      },
      "execution_count": null,
      "outputs": []
    },
    {
      "cell_type": "code",
      "source": [
        "from sklearn.impute import SimpleImputer\n"
      ],
      "metadata": {
        "id": "-d8NtlIXihRh"
      },
      "execution_count": null,
      "outputs": []
    },
    {
      "cell_type": "code",
      "source": [
        "df_cleaned_rows = df.dropna()\n",
        "\n",
        "df_cleaned = df.select_dtypes(include=np.number)\n",
        "imputer = SimpleImputer(strategy=\"mean\")\n",
        "df_imputed = pd.DataFrame(imputer.fit_transform(df_cleaned), columns=df_cleaned.columns)\n",
        "\n",
        "print(\"Cleaned DataFrame (removing rows):\")\n",
        "print(df_cleaned_rows.head())\n",
        "\n",
        "print(\"Imputed DataFrame:\")\n",
        "print(df_imputed.head())"
      ],
      "metadata": {
        "colab": {
          "base_uri": "https://localhost:8080/"
        },
        "id": "bnN8v-xOihT8",
        "outputId": "7e4f254c-bbfb-4b3a-90ca-2681500d93d4"
      },
      "execution_count": null,
      "outputs": [
        {
          "output_type": "stream",
          "name": "stdout",
          "text": [
            "Cleaned DataFrame (removing rows):\n",
            "   Unnamed: 0  Make      Model  Variant Ex-Showroom_Price Displacement  \\\n",
            "0           0  Tata  Nano Genx       Xt      Rs. 2,92,667       624 cc   \n",
            "1           1  Tata  Nano Genx       Xe      Rs. 2,36,447       624 cc   \n",
            "2           2  Tata  Nano Genx  Emax Xm      Rs. 2,96,661       624 cc   \n",
            "3           3  Tata  Nano Genx      Xta      Rs. 3,34,768       624 cc   \n",
            "4           4  Tata  Nano Genx       Xm      Rs. 2,72,223       624 cc   \n",
            "\n",
            "   Cylinders  Valves_Per_Cylinder              Drivetrain  \\\n",
            "0        2.0                  2.0  RWD (Rear Wheel Drive)   \n",
            "1        2.0                  2.0  RWD (Rear Wheel Drive)   \n",
            "2        2.0                  2.0  RWD (Rear Wheel Drive)   \n",
            "3        2.0                  2.0  RWD (Rear Wheel Drive)   \n",
            "4        2.0                  2.0  RWD (Rear Wheel Drive)   \n",
            "\n",
            "  Cylinder_Configuration  ... Leather_Wrapped_Steering Automatic_Headlamps  \\\n",
            "0                In-line  ...                      Yes                 Yes   \n",
            "1                In-line  ...                      Yes                 Yes   \n",
            "2                In-line  ...                      Yes                 Yes   \n",
            "3                In-line  ...                      Yes                 Yes   \n",
            "4                In-line  ...                      Yes                 Yes   \n",
            "\n",
            "                  Engine_Type ASR_/_Traction_Control Cruise_Control USB_Ports  \\\n",
            "0  Revotron 1.2 L, BS6 Engine                    Yes            Yes  1.793103   \n",
            "1  Revotron 1.2 L, BS6 Engine                    Yes            Yes  1.793103   \n",
            "2  Revotron 1.2 L, BS6 Engine                    Yes            Yes  1.793103   \n",
            "3  Revotron 1.2 L, BS6 Engine                    Yes            Yes  1.793103   \n",
            "4  Revotron 1.2 L, BS6 Engine                    Yes            Yes  1.793103   \n",
            "\n",
            "  Heads-Up_Display Welcome_Lights          Battery      Electric_Range  \n",
            "0              Yes            Yes  200 ampere-hour  110 km/full charge  \n",
            "1              Yes            Yes  200 ampere-hour  110 km/full charge  \n",
            "2              Yes            Yes  200 ampere-hour  110 km/full charge  \n",
            "3              Yes            Yes  200 ampere-hour  110 km/full charge  \n",
            "4              Yes            Yes  200 ampere-hour  110 km/full charge  \n",
            "\n",
            "[5 rows x 141 columns]\n",
            "Imputed DataFrame:\n",
            "   Unnamed: 0  Cylinders  Valves_Per_Cylinder  Doors  Seating_Capacity  \\\n",
            "0         0.0        2.0                  2.0    5.0               4.0   \n",
            "1         1.0        2.0                  2.0    5.0               4.0   \n",
            "2         2.0        2.0                  2.0    4.0               4.0   \n",
            "3         3.0        2.0                  2.0    5.0               4.0   \n",
            "4         4.0        2.0                  2.0    5.0               4.0   \n",
            "\n",
            "   Number_of_Airbags  USB_Ports  \n",
            "0           3.787029   1.793103  \n",
            "1           3.787029   1.793103  \n",
            "2           3.787029   1.793103  \n",
            "3           3.787029   1.793103  \n",
            "4           3.787029   1.793103  \n"
          ]
        }
      ]
    },
    {
      "cell_type": "code",
      "source": [
        "data_types = df.dtypes\n",
        "print(data_types)"
      ],
      "metadata": {
        "colab": {
          "base_uri": "https://localhost:8080/"
        },
        "id": "SceXHDpzihWi",
        "outputId": "90909e57-e84a-4df0-cd23-fa3b92bf1b69"
      },
      "execution_count": null,
      "outputs": [
        {
          "output_type": "stream",
          "name": "stdout",
          "text": [
            "Unnamed: 0             int64\n",
            "Make                  object\n",
            "Model                 object\n",
            "Variant               object\n",
            "Ex-Showroom_Price     object\n",
            "                      ...   \n",
            "USB_Ports            float64\n",
            "Heads-Up_Display      object\n",
            "Welcome_Lights        object\n",
            "Battery               object\n",
            "Electric_Range        object\n",
            "Length: 141, dtype: object\n"
          ]
        }
      ]
    },
    {
      "cell_type": "code",
      "source": [
        "df.rename(columns={'categorical_column': 'new_column_name'}, inplace=True)"
      ],
      "metadata": {
        "id": "JE2fPwQHjacf"
      },
      "execution_count": null,
      "outputs": []
    },
    {
      "cell_type": "code",
      "source": [
        "df.rename(columns={'categorical_column': 'new_column_name'}, inplace=True)\n",
        "\n",
        "\n",
        "if 'date_column' in df.columns:\n",
        "    df['date_column'] = pd.to_datetime(df['date_column'])\n",
        "\n",
        "if 'numeric_column' in df.columns:\n",
        "    df['numeric_column'] = pd.to_numeric(df['numeric_column'], errors='coerce')\n",
        "\n",
        "df['column_with_missing_values'] = np.nan\n",
        "df.dropna(subset=['column_with_missing_values'], inplace=True)\n",
        "\n",
        "df.dtypes\n"
      ],
      "metadata": {
        "colab": {
          "base_uri": "https://localhost:8080/"
        },
        "id": "5c6pWapJjae8",
        "outputId": "399cb939-d81e-4c3a-d56e-aeac7dbb48b6"
      },
      "execution_count": null,
      "outputs": [
        {
          "output_type": "execute_result",
          "data": {
            "text/plain": [
              "Unnamed: 0.1                    int64\n",
              "Unnamed: 0                      int64\n",
              "Make                           object\n",
              "Model                          object\n",
              "Variant                        object\n",
              "                               ...   \n",
              "Heads-Up_Display               object\n",
              "Welcome_Lights                 object\n",
              "Battery                        object\n",
              "Electric_Range                 object\n",
              "column_with_missing_values    float64\n",
              "Length: 143, dtype: object"
            ]
          },
          "metadata": {},
          "execution_count": 76
        }
      ]
    },
    {
      "cell_type": "code",
      "source": [
        "\n",
        "df"
      ],
      "metadata": {
        "colab": {
          "base_uri": "https://localhost:8080/",
          "height": 115
        },
        "id": "KsTQR8ZMjajj",
        "outputId": "70d42624-6fbe-40af-a2cb-ab40b8ace115"
      },
      "execution_count": null,
      "outputs": [
        {
          "output_type": "execute_result",
          "data": {
            "text/plain": [
              "Empty DataFrame\n",
              "Columns: [Unnamed: 0, Make, Model, Variant, Ex-Showroom_Price, Displacement, Cylinders, Valves_Per_Cylinder, Drivetrain, Cylinder_Configuration, Emission_Norm, Engine_Location, Fuel_System, Fuel_Tank_Capacity, Fuel_Type, Height, Length, Width, Body_Type, Doors, City_Mileage, Highway_Mileage, ARAI_Certified_Mileage, ARAI_Certified_Mileage_for_CNG, Kerb_Weight, Gears, Ground_Clearance, Front_Brakes, Rear_Brakes, Front_Suspension, Rear_Suspension, Front_Track, Rear_Track, Front_Tyre_&_Rim, Rear_Tyre_&_Rim, Power_Steering, Power_Windows, Power_Seats, Keyless_Entry, Power, Torque, Odometer, Speedometer, Tachometer, Tripmeter, Seating_Capacity, Seats_Material, Type, Wheelbase, Wheels_Size, Start_/_Stop_Button, 12v_Power_Outlet, Audiosystem, Aux-in_Compatibility, Average_Fuel_Consumption, Basic_Warranty, Bluetooth, Boot-lid_Opener, Boot_Space, CD_/_MP3_/_DVD_Player, Central_Locking, Child_Safety_Locks, Clock, Cup_Holders, Distance_to_Empty, Door_Pockets, Engine_Malfunction_Light, Extended_Warranty, FM_Radio, Fuel-lid_Opener, Fuel_Gauge, Handbrake, Instrument_Console, Low_Fuel_Warning, Minimum_Turning_Radius, Multifunction_Display, Sun_Visor, Third_Row_AC_Vents, Ventilation_System, Auto-Dimming_Rear-View_Mirror, Hill_Assist, Gear_Indicator, 3_Point_Seat-Belt_in_Middle_Rear_Seat, Ambient_Lightning, Cargo/Boot_Lights, Drive_Modes, Engine_Immobilizer, High_Speed_Alert_System, Lane_Watch_Camera/_Side_Mirror_Camera, Passenger_Side_Seat-Belt_Reminder, Seat_Back_Pockets, Voice_Recognition, Walk_Away_Auto_Car_Lock, ABS_(Anti-lock_Braking_System), Headlight_Reminder, Adjustable_Headrests, Gross_Vehicle_Weight, Airbags, Door_Ajar_Warning, EBD_(Electronic_Brake-force_Distribution), ...]\n",
              "Index: []\n",
              "\n",
              "[0 rows x 142 columns]"
            ],
            "text/html": [
              "\n",
              "  <div id=\"df-f8f64b84-ff07-4b40-95fe-87169ae2ffef\" class=\"colab-df-container\">\n",
              "    <div>\n",
              "<style scoped>\n",
              "    .dataframe tbody tr th:only-of-type {\n",
              "        vertical-align: middle;\n",
              "    }\n",
              "\n",
              "    .dataframe tbody tr th {\n",
              "        vertical-align: top;\n",
              "    }\n",
              "\n",
              "    .dataframe thead th {\n",
              "        text-align: right;\n",
              "    }\n",
              "</style>\n",
              "<table border=\"1\" class=\"dataframe\">\n",
              "  <thead>\n",
              "    <tr style=\"text-align: right;\">\n",
              "      <th></th>\n",
              "      <th>Unnamed: 0</th>\n",
              "      <th>Make</th>\n",
              "      <th>Model</th>\n",
              "      <th>Variant</th>\n",
              "      <th>Ex-Showroom_Price</th>\n",
              "      <th>Displacement</th>\n",
              "      <th>Cylinders</th>\n",
              "      <th>Valves_Per_Cylinder</th>\n",
              "      <th>Drivetrain</th>\n",
              "      <th>Cylinder_Configuration</th>\n",
              "      <th>...</th>\n",
              "      <th>Automatic_Headlamps</th>\n",
              "      <th>Engine_Type</th>\n",
              "      <th>ASR_/_Traction_Control</th>\n",
              "      <th>Cruise_Control</th>\n",
              "      <th>USB_Ports</th>\n",
              "      <th>Heads-Up_Display</th>\n",
              "      <th>Welcome_Lights</th>\n",
              "      <th>Battery</th>\n",
              "      <th>Electric_Range</th>\n",
              "      <th>column_with_missing_values</th>\n",
              "    </tr>\n",
              "  </thead>\n",
              "  <tbody>\n",
              "  </tbody>\n",
              "</table>\n",
              "<p>0 rows × 142 columns</p>\n",
              "</div>\n",
              "    <div class=\"colab-df-buttons\">\n",
              "\n",
              "  <div class=\"colab-df-container\">\n",
              "    <button class=\"colab-df-convert\" onclick=\"convertToInteractive('df-f8f64b84-ff07-4b40-95fe-87169ae2ffef')\"\n",
              "            title=\"Convert this dataframe to an interactive table.\"\n",
              "            style=\"display:none;\">\n",
              "\n",
              "  <svg xmlns=\"http://www.w3.org/2000/svg\" height=\"24px\" viewBox=\"0 -960 960 960\">\n",
              "    <path d=\"M120-120v-720h720v720H120Zm60-500h600v-160H180v160Zm220 220h160v-160H400v160Zm0 220h160v-160H400v160ZM180-400h160v-160H180v160Zm440 0h160v-160H620v160ZM180-180h160v-160H180v160Zm440 0h160v-160H620v160Z\"/>\n",
              "  </svg>\n",
              "    </button>\n",
              "\n",
              "  <style>\n",
              "    .colab-df-container {\n",
              "      display:flex;\n",
              "      gap: 12px;\n",
              "    }\n",
              "\n",
              "    .colab-df-convert {\n",
              "      background-color: #E8F0FE;\n",
              "      border: none;\n",
              "      border-radius: 50%;\n",
              "      cursor: pointer;\n",
              "      display: none;\n",
              "      fill: #1967D2;\n",
              "      height: 32px;\n",
              "      padding: 0 0 0 0;\n",
              "      width: 32px;\n",
              "    }\n",
              "\n",
              "    .colab-df-convert:hover {\n",
              "      background-color: #E2EBFA;\n",
              "      box-shadow: 0px 1px 2px rgba(60, 64, 67, 0.3), 0px 1px 3px 1px rgba(60, 64, 67, 0.15);\n",
              "      fill: #174EA6;\n",
              "    }\n",
              "\n",
              "    .colab-df-buttons div {\n",
              "      margin-bottom: 4px;\n",
              "    }\n",
              "\n",
              "    [theme=dark] .colab-df-convert {\n",
              "      background-color: #3B4455;\n",
              "      fill: #D2E3FC;\n",
              "    }\n",
              "\n",
              "    [theme=dark] .colab-df-convert:hover {\n",
              "      background-color: #434B5C;\n",
              "      box-shadow: 0px 1px 3px 1px rgba(0, 0, 0, 0.15);\n",
              "      filter: drop-shadow(0px 1px 2px rgba(0, 0, 0, 0.3));\n",
              "      fill: #FFFFFF;\n",
              "    }\n",
              "  </style>\n",
              "\n",
              "    <script>\n",
              "      const buttonEl =\n",
              "        document.querySelector('#df-f8f64b84-ff07-4b40-95fe-87169ae2ffef button.colab-df-convert');\n",
              "      buttonEl.style.display =\n",
              "        google.colab.kernel.accessAllowed ? 'block' : 'none';\n",
              "\n",
              "      async function convertToInteractive(key) {\n",
              "        const element = document.querySelector('#df-f8f64b84-ff07-4b40-95fe-87169ae2ffef');\n",
              "        const dataTable =\n",
              "          await google.colab.kernel.invokeFunction('convertToInteractive',\n",
              "                                                    [key], {});\n",
              "        if (!dataTable) return;\n",
              "\n",
              "        const docLinkHtml = 'Like what you see? Visit the ' +\n",
              "          '<a target=\"_blank\" href=https://colab.research.google.com/notebooks/data_table.ipynb>data table notebook</a>'\n",
              "          + ' to learn more about interactive tables.';\n",
              "        element.innerHTML = '';\n",
              "        dataTable['output_type'] = 'display_data';\n",
              "        await google.colab.output.renderOutput(dataTable, element);\n",
              "        const docLink = document.createElement('div');\n",
              "        docLink.innerHTML = docLinkHtml;\n",
              "        element.appendChild(docLink);\n",
              "      }\n",
              "    </script>\n",
              "  </div>\n",
              "\n",
              "\n",
              "  <div id=\"id_e51af154-19c1-4db5-b9f4-dcc88dcc5452\">\n",
              "    <style>\n",
              "      .colab-df-generate {\n",
              "        background-color: #E8F0FE;\n",
              "        border: none;\n",
              "        border-radius: 50%;\n",
              "        cursor: pointer;\n",
              "        display: none;\n",
              "        fill: #1967D2;\n",
              "        height: 32px;\n",
              "        padding: 0 0 0 0;\n",
              "        width: 32px;\n",
              "      }\n",
              "\n",
              "      .colab-df-generate:hover {\n",
              "        background-color: #E2EBFA;\n",
              "        box-shadow: 0px 1px 2px rgba(60, 64, 67, 0.3), 0px 1px 3px 1px rgba(60, 64, 67, 0.15);\n",
              "        fill: #174EA6;\n",
              "      }\n",
              "\n",
              "      [theme=dark] .colab-df-generate {\n",
              "        background-color: #3B4455;\n",
              "        fill: #D2E3FC;\n",
              "      }\n",
              "\n",
              "      [theme=dark] .colab-df-generate:hover {\n",
              "        background-color: #434B5C;\n",
              "        box-shadow: 0px 1px 3px 1px rgba(0, 0, 0, 0.15);\n",
              "        filter: drop-shadow(0px 1px 2px rgba(0, 0, 0, 0.3));\n",
              "        fill: #FFFFFF;\n",
              "      }\n",
              "    </style>\n",
              "    <button class=\"colab-df-generate\" onclick=\"generateWithVariable('df')\"\n",
              "            title=\"Generate code using this dataframe.\"\n",
              "            style=\"display:none;\">\n",
              "\n",
              "  <svg xmlns=\"http://www.w3.org/2000/svg\" height=\"24px\"viewBox=\"0 0 24 24\"\n",
              "       width=\"24px\">\n",
              "    <path d=\"M7,19H8.4L18.45,9,17,7.55,7,17.6ZM5,21V16.75L18.45,3.32a2,2,0,0,1,2.83,0l1.4,1.43a1.91,1.91,0,0,1,.58,1.4,1.91,1.91,0,0,1-.58,1.4L9.25,21ZM18.45,9,17,7.55Zm-12,3A5.31,5.31,0,0,0,4.9,8.1,5.31,5.31,0,0,0,1,6.5,5.31,5.31,0,0,0,4.9,4.9,5.31,5.31,0,0,0,6.5,1,5.31,5.31,0,0,0,8.1,4.9,5.31,5.31,0,0,0,12,6.5,5.46,5.46,0,0,0,6.5,12Z\"/>\n",
              "  </svg>\n",
              "    </button>\n",
              "    <script>\n",
              "      (() => {\n",
              "      const buttonEl =\n",
              "        document.querySelector('#id_e51af154-19c1-4db5-b9f4-dcc88dcc5452 button.colab-df-generate');\n",
              "      buttonEl.style.display =\n",
              "        google.colab.kernel.accessAllowed ? 'block' : 'none';\n",
              "\n",
              "      buttonEl.onclick = () => {\n",
              "        google.colab.notebook.generateWithVariable('df');\n",
              "      }\n",
              "      })();\n",
              "    </script>\n",
              "  </div>\n",
              "\n",
              "    </div>\n",
              "  </div>\n"
            ],
            "application/vnd.google.colaboratory.intrinsic+json": {
              "type": "dataframe",
              "variable_name": "df"
            }
          },
          "metadata": {},
          "execution_count": 45
        }
      ]
    },
    {
      "cell_type": "code",
      "source": [
        "mean_values = df.mean()\n",
        "print(\"Mean:\")\n",
        "print(mean_values)"
      ],
      "metadata": {
        "colab": {
          "base_uri": "https://localhost:8080/"
        },
        "id": "Zb91zazsjalm",
        "outputId": "87e9f2cf-a3d0-41b1-dfd6-1d107fa3b37e"
      },
      "execution_count": null,
      "outputs": [
        {
          "output_type": "stream",
          "name": "stdout",
          "text": [
            "Mean:\n",
            "Unnamed: 0                    NaN\n",
            "Make                          NaN\n",
            "Model                         NaN\n",
            "Variant                       NaN\n",
            "Ex-Showroom_Price             NaN\n",
            "                             ... \n",
            "Heads-Up_Display              NaN\n",
            "Welcome_Lights                NaN\n",
            "Battery                       NaN\n",
            "Electric_Range                NaN\n",
            "column_with_missing_values    NaN\n",
            "Length: 142, dtype: object\n"
          ]
        }
      ]
    },
    {
      "cell_type": "code",
      "source": [
        "median_values = df.median()\n",
        "print(\"Median:\")\n",
        "print(median_values)"
      ],
      "metadata": {
        "colab": {
          "base_uri": "https://localhost:8080/"
        },
        "id": "9xIuVIeDjapF",
        "outputId": "9d8faaaa-8809-4293-a07f-9224d59c295d"
      },
      "execution_count": null,
      "outputs": [
        {
          "output_type": "stream",
          "name": "stdout",
          "text": [
            "Median:\n",
            "Unnamed: 0                    NaN\n",
            "Make                          NaN\n",
            "Model                         NaN\n",
            "Variant                       NaN\n",
            "Ex-Showroom_Price             NaN\n",
            "                             ... \n",
            "Heads-Up_Display              NaN\n",
            "Welcome_Lights                NaN\n",
            "Battery                       NaN\n",
            "Electric_Range                NaN\n",
            "column_with_missing_values    NaN\n",
            "Length: 142, dtype: object\n"
          ]
        }
      ]
    },
    {
      "cell_type": "code",
      "source": [
        "min_values = df.min()\n",
        "print(\"Minimum:\")\n",
        "print(min_values)\n",
        "\n",
        "max_values = df.max()\n",
        "print(\"Maximum:\")\n",
        "print(max_values)"
      ],
      "metadata": {
        "colab": {
          "base_uri": "https://localhost:8080/"
        },
        "id": "I_M6B3Vojatg",
        "outputId": "8259ae7e-645d-430b-8d68-2d7be87220d4"
      },
      "execution_count": null,
      "outputs": [
        {
          "output_type": "stream",
          "name": "stdout",
          "text": [
            "Minimum:\n",
            "Unnamed: 0                    NaN\n",
            "Make                          NaN\n",
            "Model                         NaN\n",
            "Variant                       NaN\n",
            "Ex-Showroom_Price             NaN\n",
            "                             ... \n",
            "Heads-Up_Display              NaN\n",
            "Welcome_Lights                NaN\n",
            "Battery                       NaN\n",
            "Electric_Range                NaN\n",
            "column_with_missing_values    NaN\n",
            "Length: 142, dtype: object\n",
            "Maximum:\n",
            "Unnamed: 0                    NaN\n",
            "Make                          NaN\n",
            "Model                         NaN\n",
            "Variant                       NaN\n",
            "Ex-Showroom_Price             NaN\n",
            "                             ... \n",
            "Heads-Up_Display              NaN\n",
            "Welcome_Lights                NaN\n",
            "Battery                       NaN\n",
            "Electric_Range                NaN\n",
            "column_with_missing_values    NaN\n",
            "Length: 142, dtype: object\n"
          ]
        }
      ]
    },
    {
      "cell_type": "code",
      "source": [
        "std_deviation_values = df.std()\n",
        "print(\"Standard Deviation:\")\n",
        "print(std_deviation_values)"
      ],
      "metadata": {
        "colab": {
          "base_uri": "https://localhost:8080/"
        },
        "id": "_7BhzkYvihZK",
        "outputId": "e4d15717-c8df-447b-8c47-d8101ff92140"
      },
      "execution_count": null,
      "outputs": [
        {
          "output_type": "stream",
          "name": "stdout",
          "text": [
            "Standard Deviation:\n",
            "Unnamed: 0                    NaN\n",
            "Make                          NaN\n",
            "Model                         NaN\n",
            "Variant                       NaN\n",
            "Ex-Showroom_Price             NaN\n",
            "                             ... \n",
            "Heads-Up_Display              NaN\n",
            "Welcome_Lights                NaN\n",
            "Battery                       NaN\n",
            "Electric_Range                NaN\n",
            "column_with_missing_values    NaN\n",
            "Length: 142, dtype: object\n"
          ]
        }
      ]
    },
    {
      "cell_type": "markdown",
      "source": [
        "HISTOGRAM:"
      ],
      "metadata": {
        "id": "J2BAoylXmt7f"
      }
    },
    {
      "cell_type": "code",
      "source": [
        "import pandas as pd\n",
        "import matplotlib.pyplot as plt"
      ],
      "metadata": {
        "id": "wIaeo9ClkIMs"
      },
      "execution_count": null,
      "outputs": []
    },
    {
      "cell_type": "code",
      "source": [
        "df = pd.DataFrame({\n",
        "    'column_1': [20,40,60,80,100,120],\n",
        "    'column_2': [5,50,62,79,95,105],\n",
        "    'column_3': [38,56,23,45,67,89]\n",
        "})"
      ],
      "metadata": {
        "id": "jzhASlfEkIPi"
      },
      "execution_count": null,
      "outputs": []
    },
    {
      "cell_type": "code",
      "source": [
        "numeric_columns_to_visualize = ['column_1', 'column_2','column_3']\n",
        "\n",
        "\n",
        "plt.figure(figsize=(12, 6))\n",
        "for i, column in enumerate(numeric_columns_to_visualize, 1):\n",
        "    plt.subplot(1, len(numeric_columns_to_visualize), i)\n",
        "    plt.hist(df[column], bins=20, edgecolor='green', color='red')\n",
        "    plt.title(f'Histogram of {column}')\n",
        "\n",
        "plt.tight_layout()\n",
        "plt.show()"
      ],
      "metadata": {
        "colab": {
          "base_uri": "https://localhost:8080/",
          "height": 627
        },
        "id": "NzkrTRdckISR",
        "outputId": "6169db14-efdf-4b40-8098-96092a8ef6f5"
      },
      "execution_count": null,
      "outputs": [
        {
          "output_type": "display_data",
          "data": {
            "text/plain": [
              "<Figure size 1200x600 with 3 Axes>"
            ],
            "image/png": "[encoded data removed]"
          },
          "metadata": {}
        }
      ]
    },
    {
      "cell_type": "markdown",
      "source": [
        "BAR CHART:"
      ],
      "metadata": {
        "id": "ACc4K7-fmo6z"
      }
    },
    {
      "cell_type": "code",
      "source": [
        "import pandas as pd\n",
        "import matplotlib.pyplot as plt"
      ],
      "metadata": {
        "id": "qaktoaflkIUf"
      },
      "execution_count": null,
      "outputs": []
    },
    {
      "cell_type": "code",
      "source": [
        "df = pd.DataFrame({\n",
        "    'column_1': ['Category_A', 'Category_B', 'Category_A', 'Category_A', 'Category_B'],\n",
        "    'column_2': ['Type_X', 'Type_Y', 'Type_X', 'Type_Y', 'Type_X'],\n",
        "    'column_3': ['Label_1', 'Label_2', 'Label_1', 'Label_3', 'Label_2'],\n",
        "})\n",
        "\n",
        "\n",
        "columns_to_visualize = ['column_1', 'column_2', 'column_3']\n",
        "\n",
        "\n",
        "\n",
        "columns_to_visualize = ['column_1', 'column_2']\n",
        "\n",
        "\n",
        "\n",
        "counts = df[columns_to_visualize].apply(pd.value_counts)\n"
      ],
      "metadata": {
        "id": "iJ79huKgkIWg"
      },
      "execution_count": null,
      "outputs": []
    },
    {
      "cell_type": "code",
      "source": [
        "counts.T.plot(kind='bar', stacked=True, figsize=(18, 10), colormap='magma')\n",
        "plt.title('Categorical Variables', fontsize=30)\n",
        "plt.xlabel('Category')\n",
        "plt.ylabel('Count')\n",
        "plt.legend(title='Categorical Variable', bbox_to_anchor=(1, 1))\n",
        "plt.show()"
      ],
      "metadata": {
        "colab": {
          "base_uri": "https://localhost:8080/",
          "height": 965
        },
        "id": "PK0eVpsFkIZv",
        "outputId": "a6b479d7-1d36-4e8a-8748-a615f30dc07e"
      },
      "execution_count": null,
      "outputs": [
        {
          "output_type": "display_data",
          "data": {
            "text/plain": [
              "<Figure size 1800x1000 with 1 Axes>"
            ],
            "image/png": "[encoded data removed]"
          },
          "metadata": {}
        }
      ]
    },
    {
      "cell_type": "markdown",
      "source": [
        "BOX PLOT:"
      ],
      "metadata": {
        "id": "wYHAbLjmmk6q"
      }
    },
    {
      "cell_type": "code",
      "source": [
        "import pandas as pd\n",
        "import matplotlib.pyplot as plt\n"
      ],
      "metadata": {
        "id": "57sJwI2bkIbu"
      },
      "execution_count": null,
      "outputs": []
    },
    {
      "cell_type": "code",
      "source": [
        "df = pd.DataFrame({\n",
        "    'numeric_column_1': [5, 10, 15, 20, 25, 30, 35, 40, 45],\n",
        "    'numeric_column_2': [100, 150, 200, 250, 300, 350, 400, 450, 500],\n",
        "    'numeric_column_3': [10, 20, 30, 40, 50, 60, 70, 80, 90],\n",
        "})"
      ],
      "metadata": {
        "id": "f_coPxpgkkFS"
      },
      "execution_count": null,
      "outputs": []
    },
    {
      "cell_type": "code",
      "source": [
        "numeric_columns_to_visualize = ['numeric_column_1', 'numeric_column_2']"
      ],
      "metadata": {
        "id": "TNp5r7IVkkH8"
      },
      "execution_count": null,
      "outputs": []
    },
    {
      "cell_type": "code",
      "source": [
        "sns.set_palette(\"husl\")"
      ],
      "metadata": {
        "id": "i6xeqERbkkKT"
      },
      "execution_count": null,
      "outputs": []
    },
    {
      "cell_type": "code",
      "source": [
        "plt.figure(figsize=(12, 8))\n",
        "sns.boxplot(data=df[numeric_columns_to_visualize], orient='h', width=0.9)\n",
        "\n",
        "plt.title('Box Plots of Numeric Variables', fontsize= 20)\n",
        "plt.xlabel('Values', fontsize=18)\n",
        "plt.ylabel('Numeric Variables', fontsize=18)\n",
        "\n",
        "plt.grid(axis='x', linestyle='--', alpha=0.7)\n",
        "plt.show()"
      ],
      "metadata": {
        "colab": {
          "base_uri": "https://localhost:8080/",
          "height": 756
        },
        "id": "hSz4mBTkkkOs",
        "outputId": "243542d1-9c5d-4385-e6be-cb8e515da316"
      },
      "execution_count": null,
      "outputs": [
        {
          "output_type": "display_data",
          "data": {
            "text/plain": [
              "<Figure size 1200x800 with 1 Axes>"
            ],
            "image/png": "[encoded data removed]"
          },
          "metadata": {}
        }
      ]
    },
    {
      "cell_type": "markdown",
      "source": [
        "PIE CHART:"
      ],
      "metadata": {
        "id": "qzXDxn9-mL0o"
      }
    },
    {
      "cell_type": "code",
      "source": [
        "import pandas as pd\n",
        "import matplotlib.pyplot as plt\n"
      ],
      "metadata": {
        "id": "wvX8FAhgkkQ9"
      },
      "execution_count": null,
      "outputs": []
    },
    {
      "cell_type": "code",
      "source": [
        "df = pd.DataFrame({\n",
        "    'car_model': ['Sedan', 'SUV', 'Hatchback', 'Sedan', 'SUV', 'SUV', 'Hatchback', 'Sedan'],\n",
        "    'manufacturer': ['Toyota', 'Honda', 'Ford', 'Toyota', 'Honda', 'Ford', 'Nissan', 'Toyota'],\n",
        "    'color': ['Red', 'Blue', 'Black', 'White', 'Red', 'Blue', 'Black', 'White']\n",
        "})\n",
        "\n",
        "\n",
        "categorical_column_to_visualize = 'car_model'\n",
        "\n",
        "\n",
        "\n",
        "categorical_column_to_visualize = 'car_model'\n",
        "\n",
        "\n",
        "\n",
        "category_contribution = df[categorical_column_to_visualize].value_counts()"
      ],
      "metadata": {
        "id": "i8hBizbxkkTb"
      },
      "execution_count": null,
      "outputs": []
    },
    {
      "cell_type": "code",
      "source": [
        "category_contribution.plot.pie(autopct='%1.1f%%', startangle=90, figsize=(7,7))\n",
        "plt.title(f'Contribution of {categorical_column_to_visualize}', fontsize=20)\n",
        "plt.show()"
      ],
      "metadata": {
        "colab": {
          "base_uri": "https://localhost:8080/",
          "height": 606
        },
        "id": "P33Z3H6dk8EW",
        "outputId": "7d451759-36cb-4523-db10-5bb71571cd50"
      },
      "execution_count": null,
      "outputs": [
        {
          "output_type": "display_data",
          "data": {
            "text/plain": [
              "<Figure size 700x700 with 1 Axes>"
            ],
            "image/png": "[encoded data removed]"
          },
          "metadata": {}
        }
      ]
    },
    {
      "cell_type": "markdown",
      "source": [
        "COUNT PLOT:"
      ],
      "metadata": {
        "id": "LGNyIASkmFg5"
      }
    },
    {
      "cell_type": "code",
      "source": [
        "import pandas as pd\n",
        "import seaborn as sns\n",
        "import matplotlib.pyplot as plt"
      ],
      "metadata": {
        "id": "gMvDVHzSk8HD"
      },
      "execution_count": null,
      "outputs": []
    },
    {
      "cell_type": "code",
      "source": [
        "df = pd.read_csv(\"/content/cars_ds_final.csv\")"
      ],
      "metadata": {
        "id": "5f_2dFQ-lwKe"
      },
      "execution_count": null,
      "outputs": []
    },
    {
      "cell_type": "code",
      "source": [
        "(df.columns)"
      ],
      "metadata": {
        "colab": {
          "base_uri": "https://localhost:8080/"
        },
        "id": "ujA4MJEKk8Je",
        "outputId": "a9b8e30a-aacc-41e4-8285-5b34cc252306"
      },
      "execution_count": null,
      "outputs": [
        {
          "output_type": "execute_result",
          "data": {
            "text/plain": [
              "Index(['car_model', 'manufacturer', 'color'], dtype='object')"
            ]
          },
          "metadata": {},
          "execution_count": 66
        }
      ]
    },
    {
      "cell_type": "code",
      "source": [
        "(df.dtypes)"
      ],
      "metadata": {
        "colab": {
          "base_uri": "https://localhost:8080/"
        },
        "id": "Mx_EN3_6k8xM",
        "outputId": "8d4c3a74-e879-426a-e5f4-693aeb18e2ec"
      },
      "execution_count": null,
      "outputs": [
        {
          "output_type": "execute_result",
          "data": {
            "text/plain": [
              "car_model       object\n",
              "manufacturer    object\n",
              "color           object\n",
              "dtype: object"
            ]
          },
          "metadata": {},
          "execution_count": 67
        }
      ]
    },
    {
      "cell_type": "code",
      "source": [
        "df.rename(columns={'category_column': 'new_column_name'}, inplace=True)"
      ],
      "metadata": {
        "id": "UEp3O6mik8zr"
      },
      "execution_count": null,
      "outputs": []
    },
    {
      "cell_type": "code",
      "source": [
        "plt.figure(figsize=(20,10))\n",
        "sns.countplot(data=df, y='Body_Type',alpha=.6,color='blue')\n",
        "plt.title('categorical variables',fontsize=20)\n",
        "plt.xticks(fontsize=20)\n",
        "plt.yticks(fontsize=20)\n",
        "plt.xlabel(' ')\n",
        "plt.ylabel(' ');"
      ],
      "metadata": {
        "colab": {
          "base_uri": "https://localhost:8080/",
          "height": 494
        },
        "id": "yNNnZ7GVlVFA",
        "outputId": "e4d0cf2d-185c-4db4-d44c-93eaae011584"
      },
      "execution_count": null,
      "outputs": [
        {
          "output_type": "display_data",
          "data": {
            "text/plain": [
              "<Figure size 2000x1000 with 1 Axes>"
            ],
            "image/png": "[encoded data removed]"
          },
          "metadata": {}
        }
      ]
    }
  ]
}